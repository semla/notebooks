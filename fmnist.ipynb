{
  "nbformat": 4,
  "nbformat_minor": 0,
  "metadata": {
    "colab": {
      "name": "fmnist.ipynb",
      "version": "0.3.2",
      "provenance": [],
      "collapsed_sections": [],
      "include_colab_link": true
    },
    "kernelspec": {
      "name": "python3",
      "display_name": "Python 3"
    },
    "accelerator": "GPU"
  },
  "cells": [
    {
      "cell_type": "markdown",
      "metadata": {
        "id": "view-in-github",
        "colab_type": "text"
      },
      "source": [
        "<a href=\"https://colab.research.google.com/github/semla/notebooks/blob/master/fmnist.ipynb\" target=\"_parent\"><img src=\"https://colab.research.google.com/assets/colab-badge.svg\" alt=\"Open In Colab\"/></a>"
      ]
    },
    {
      "cell_type": "markdown",
      "metadata": {
        "id": "VtEcg8p3gR3_",
        "colab_type": "text"
      },
      "source": [
        "# Install dependencies & import\n",
        "Install Keras and Tensorflow using pip."
      ]
    },
    {
      "cell_type": "code",
      "metadata": {
        "id": "rjxoiYwLfV3A",
        "colab_type": "code",
        "colab": {
          "base_uri": "https://localhost:8080/",
          "height": 34
        },
        "outputId": "a55b74aa-a5a1-4633-aac6-4289fa46eb93"
      },
      "source": [
        "# !pip install -U keras tensorflow>=1.8.0 matplotlib numpy\n",
        "!pip install -U keras tensorflow>=2.0 matplotlib numpy"
      ],
      "execution_count": 1,
      "outputs": [
        {
          "output_type": "stream",
          "text": [
            "\u001b[31mERROR: albumentations 0.1.12 has requirement imgaug<0.2.7,>=0.2.5, but you'll have imgaug 0.2.9 which is incompatible.\u001b[0m\n"
          ],
          "name": "stdout"
        }
      ]
    },
    {
      "cell_type": "markdown",
      "metadata": {
        "id": "1LEzzRPjrHzJ",
        "colab_type": "text"
      },
      "source": [
        "Import statemets"
      ]
    },
    {
      "cell_type": "code",
      "metadata": {
        "id": "DRk8v2zUgLgY",
        "colab_type": "code",
        "outputId": "902fb797-ebc0-42cb-9b61-29c5f014364e",
        "colab": {
          "base_uri": "https://localhost:8080/",
          "height": 52
        }
      },
      "source": [
        "#from keras.preprocessing import image # for data augmentation I think\n",
        "from keras.models import Sequential # For sequential models, not functional\n",
        "from keras.layers import Dense, Activation,MaxPooling2D, Dropout, Conv2D, Flatten # the layers used\n",
        "from keras.datasets import fashion_mnist\n",
        "from keras.utils import to_categorical # one-hot encoding\n",
        "\n",
        "import numpy as np\n",
        "import tensorflow as tf # tensorflow is the backend\n",
        "print( 'Tensorflow version: ' + tf.__version__) #+ \"  Keras version \" + print(keras.__version__) )"
      ],
      "execution_count": 2,
      "outputs": [
        {
          "output_type": "stream",
          "text": [
            "Using TensorFlow backend.\n"
          ],
          "name": "stderr"
        },
        {
          "output_type": "stream",
          "text": [
            "Tensorflow version: 1.13.1\n"
          ],
          "name": "stdout"
        }
      ]
    },
    {
      "cell_type": "markdown",
      "metadata": {
        "id": "XXk-QeSa7M25",
        "colab_type": "text"
      },
      "source": [
        "Set variables to enable / disable features depending on where the code is run"
      ]
    },
    {
      "cell_type": "code",
      "metadata": {
        "id": "Lq37z-om7YhU",
        "colab_type": "code",
        "outputId": "1043fed3-c6be-42a1-a33d-2a16d70ab535",
        "colab": {
          "base_uri": "https://localhost:8080/",
          "height": 34
        }
      },
      "source": [
        "use_matplotlib, use_google_drive, use_gpu = True, True, True # False, False, True #\n",
        "\n",
        "if use_matplotlib:\n",
        "  import matplotlib.pyplot as plt\n",
        "\n",
        "# use gpu\n",
        "if use_gpu:\n",
        "  device_name = tf.test.gpu_device_name()\n",
        "  if device_name != '/device:GPU:0':\n",
        "    raise SystemError('GPU device not found')\n",
        "  print('Using GPU at: {}'.format(device_name))"
      ],
      "execution_count": 3,
      "outputs": [
        {
          "output_type": "stream",
          "text": [
            "Using GPU at: /device:GPU:0\n"
          ],
          "name": "stdout"
        }
      ]
    },
    {
      "cell_type": "markdown",
      "metadata": {
        "id": "tx_0GeqAsGXu",
        "colab_type": "text"
      },
      "source": [
        "# Load data & do some preprocessing"
      ]
    },
    {
      "cell_type": "code",
      "metadata": {
        "id": "AZ4Y7HLoixEV",
        "colab_type": "code",
        "outputId": "a9aec5c0-8763-4b19-d574-1a9a3411f6e0",
        "colab": {
          "base_uri": "https://localhost:8080/",
          "height": 208
        }
      },
      "source": [
        "# Load the dataset into training and test.\n",
        "(x_train, y_train), (x_test, y_test) = fashion_mnist.load_data()\n",
        "\n",
        "# Print training set shape - note there are 60,000 training data of image size of 28x28, 60,000 train labels)\n",
        "print(\"x_train shape:\", x_train.shape, \"y_train shape:\", y_train.shape)\n",
        "\n",
        "# Print the number of training and test datasets\n",
        "print(x_train.shape[0], 'train set')\n",
        "print(x_test.shape[0], 'test set')\n",
        "\n",
        "# Define the text labels\n",
        "fashion_mnist_labels = [\"T-shirt/top\",  # index 0\n",
        "                        \"Trouser\",      # index 1\n",
        "                        \"Pullover\",     # index 2 \n",
        "                        \"Dress\",        # index 3 \n",
        "                        \"Coat\",         # index 4\n",
        "                        \"Sandal\",       # index 5\n",
        "                        \"Shirt\",        # index 6 \n",
        "                        \"Sneaker\",      # index 7 \n",
        "                        \"Bag\",          # index 8 \n",
        "                        \"Ankle boot\"]   # index 9\n"
      ],
      "execution_count": 4,
      "outputs": [
        {
          "output_type": "stream",
          "text": [
            "Downloading data from http://fashion-mnist.s3-website.eu-central-1.amazonaws.com/train-labels-idx1-ubyte.gz\n",
            "32768/29515 [=================================] - 0s 3us/step\n",
            "Downloading data from http://fashion-mnist.s3-website.eu-central-1.amazonaws.com/train-images-idx3-ubyte.gz\n",
            "26427392/26421880 [==============================] - 2s 0us/step\n",
            "Downloading data from http://fashion-mnist.s3-website.eu-central-1.amazonaws.com/t10k-labels-idx1-ubyte.gz\n",
            "8192/5148 [===============================================] - 0s 0us/step\n",
            "Downloading data from http://fashion-mnist.s3-website.eu-central-1.amazonaws.com/t10k-images-idx3-ubyte.gz\n",
            "4423680/4422102 [==============================] - 1s 0us/step\n",
            "x_train shape: (60000, 28, 28) y_train shape: (60000,)\n",
            "60000 train set\n",
            "10000 test set\n"
          ],
          "name": "stdout"
        }
      ]
    },
    {
      "cell_type": "markdown",
      "metadata": {
        "id": "FFpw7yorqsWJ",
        "colab_type": "text"
      },
      "source": [
        "Normalization  & add a dimension for channel. Even if it is black & white images Keras wants a number for channels."
      ]
    },
    {
      "cell_type": "code",
      "metadata": {
        "id": "XLXfDHz0h2Oj",
        "colab_type": "code",
        "colab": {}
      },
      "source": [
        "x_train = x_train.astype('float32') / 255\n",
        "x_test = x_test.astype('float32') / 255\n",
        "\n",
        "# the preprocess_input wants samples, x-values, y-values and channels\n",
        "# since black & white only one channel, so add a 1\n",
        "x_train = x_train.reshape(x_train.shape[0], 28, 28, 1)\n",
        "x_test = x_test.reshape(x_test.shape[0], 28, 28, 1)\n",
        "\n",
        "# \"One-hot-encode\" the labels in train and test\n",
        "y_train = to_categorical(y_train, 10)\n",
        "y_test = to_categorical(y_test, 10)\n"
      ],
      "execution_count": 0,
      "outputs": []
    },
    {
      "cell_type": "code",
      "metadata": {
        "id": "y0P_eWjrCvTp",
        "colab_type": "code",
        "colab": {}
      },
      "source": [
        "# Further break training data into training and validation sets, 5000 in validation set and remaining 55,000 for training set)\n",
        "(x_train, x_valid) = x_train[5000:], x_train[:5000] \n",
        "(y_train, y_valid) = y_train[5000:], y_train[:5000]"
      ],
      "execution_count": 0,
      "outputs": []
    },
    {
      "cell_type": "markdown",
      "metadata": {
        "id": "3cUbVvfWIwDW",
        "colab_type": "text"
      },
      "source": [
        "# Explore the data.\n",
        "Take a look at the y_train which, is now one-hot-encoded.\n",
        "Print the matrix of pixel values representing an image, then print the same data as an image."
      ]
    },
    {
      "cell_type": "code",
      "metadata": {
        "id": "mkLwP3amItip",
        "colab_type": "code",
        "outputId": "3089da53-a7ff-4d54-c4ee-a66a5ae11e63",
        "colab": {
          "base_uri": "https://localhost:8080/",
          "height": 807
        }
      },
      "source": [
        "# Choose one of the 60000 training samples\n",
        "img_index = 2\n",
        "# y_train contains the lables, ranging from 0 to 9\n",
        "print(\"Row number \" + str(img_index) +\" of the labels: \" + str(y_train[img_index]))\n",
        "label_index=np.argmax(y_train[img_index])\n",
        "# Print the label, for example 2 Pullover\n",
        "print (\"Category \"+str(label_index+1) + \" is \" +(fashion_mnist_labels[label_index]))\n",
        "\n",
        "# Show one of the images from the training dataset\n",
        "# reshaping neccessary to only show the columns with actual pixel data (not the one added with reshape above)\n",
        "img=x_train[img_index].reshape(28,28)\n",
        "np.set_printoptions(linewidth=125)\n",
        "print(\"The matrix of pixel values for sample \" + str(img_index) + \":\\n\" + str(np.around(img,1)))\n",
        "\n",
        "# show the same data but as an image\n",
        "if use_matplotlib:\n",
        "  plt.imshow(img)"
      ],
      "execution_count": 7,
      "outputs": [
        {
          "output_type": "stream",
          "text": [
            "Row number 2 of the labels: [0. 0. 0. 0. 0. 0. 0. 1. 0. 0.]\n",
            "Category 8 is Sneaker\n",
            "The matrix of pixel values for sample 2:\n",
            "[[0.  0.  0.  0.  0.  0.  0.  0.  0.  0.  0.  0.  0.  0.  0.  0.  0.  0.  0.  0.  0.  0.  0.  0.  0.  0.  0.  0. ]\n",
            " [0.  0.  0.  0.  0.  0.  0.  0.  0.  0.  0.  0.  0.  0.  0.  0.  0.  0.  0.  0.  0.  0.  0.  0.  0.  0.  0.  0. ]\n",
            " [0.  0.  0.  0.  0.  0.  0.  0.  0.  0.  0.  0.  0.  0.  0.  0.  0.  0.  0.  0.  0.  0.  0.  0.  0.  0.  0.  0. ]\n",
            " [0.  0.  0.  0.  0.  0.  0.  0.  0.  0.  0.  0.  0.  0.  0.  0.  0.  0.  0.  0.  0.  0.  0.  0.  0.  0.  0.  0. ]\n",
            " [0.  0.  0.  0.  0.  0.  0.  0.  0.  0.  0.  0.  0.  0.  0.  0.  0.  0.  0.  0.  0.  0.  0.  0.  0.  0.  0.  0. ]\n",
            " [0.  0.  0.  0.  0.  0.  0.  0.  0.  0.  0.  0.  0.  0.  0.  0.  0.  0.  0.  0.  0.  0.  0.  0.  0.  0.  0.  0. ]\n",
            " [0.  0.  0.  0.  0.  0.  0.  0.  0.  0.  0.  0.  0.  0.  0.  0.  0.1 0.  0.5 0.4 0.  0.  0.  0.  0.  0.  0.  0. ]\n",
            " [0.  0.  0.  0.  0.  0.  0.  0.  0.  0.  0.  0.  0.  0.  0.  0.  0.5 0.5 0.5 0.6 0.8 0.7 0.6 0.3 0.1 0.  0.  0. ]\n",
            " [0.  0.  0.  0.  0.  0.  0.  0.  0.  0.  0.  0.  0.  0.  0.  0.1 0.6 1.  0.6 0.6 0.9 0.7 0.7 0.6 0.7 0.5 0.2 0. ]\n",
            " [0.  0.  0.  0.  0.  0.  0.  0.  0.  0.  0.  0.  0.  0.  0.  0.  0.4 0.6 0.4 0.9 0.8 0.7 0.6 0.5 0.5 0.6 0.7 0. ]\n",
            " [0.  0.  0.  0.  0.  0.  0.  0.  0.  0.  0.  0.  0.  0.  0.3 0.6 0.9 0.3 0.5 0.8 0.8 0.8 0.4 0.4 0.4 0.5 0.5 0. ]\n",
            " [0.  0.  0.  0.  0.  0.  0.  0.  0.  0.  0.  0.  0.  0.1 0.1 0.6 0.8 0.8 0.7 0.8 0.6 0.6 0.6 0.5 0.5 0.5 0.6 0.1]\n",
            " [0.  0.  0.  0.  0.  0.  0.  0.  0.  0.1 0.  0.1 0.  0.4 0.7 0.4 0.2 0.6 0.8 0.8 0.6 0.4 0.5 0.5 0.5 0.5 0.9 0.2]\n",
            " [0.  0.  0.  0.  0.  0.  0.  0.  0.  0.1 0.1 0.3 0.5 0.  0.4 0.5 0.6 0.9 0.6 0.6 0.6 0.4 0.3 0.3 0.4 0.4 0.7 0.1]\n",
            " [0.  0.  0.  0.  0.  0.  0.  0.  0.1 0.2 0.4 0.  0.7 0.4 0.3 0.5 0.8 0.7 0.6 0.5 0.6 0.7 0.6 0.5 0.4 0.4 0.6 0.2]\n",
            " [0.  0.  0.1 0.2 0.3 0.3 0.3 0.4 0.1 0.5 0.9 0.1 0.2 0.5 0.8 0.9 0.7 0.5 0.5 0.5 0.5 0.6 0.6 0.5 0.6 0.5 0.6 0.3]\n",
            " [0.  0.1 0.3 0.3 0.2 0.1 0.1 0.3 0.3 0.3 0.3 0.5 0.7 0.7 0.7 0.6 0.6 0.6 0.6 0.5 0.4 0.5 0.5 0.5 0.6 0.5 0.6 0.3]\n",
            " [0.  0.1 0.  0.1 0.1 0.1 0.4 0.4 0.3 0.5 0.5 0.7 0.7 0.7 0.7 0.7 0.7 0.7 0.7 0.5 0.5 0.5 0.5 0.7 0.6 0.6 0.7 0.4]\n",
            " [0.  0.1 0.1 0.1 0.1 0.1 0.2 0.3 0.4 0.5 0.5 0.5 0.5 0.6 0.7 0.7 0.6 0.6 0.6 0.5 0.4 0.4 0.6 0.7 0.6 0.5 0.5 0.3]\n",
            " [0.3 0.2 0.  0.1 0.2 0.1 0.1 0.1 0.  0.1 0.1 0.1 0.1 0.1 0.1 0.1 0.1 0.1 0.1 0.1 0.1 0.2 0.2 0.1 0.1 0.1 0.1 0.1]\n",
            " [0.1 0.6 0.5 0.4 0.2 0.1 0.1 0.1 0.2 0.2 0.1 0.2 0.1 0.1 0.2 0.2 0.1 0.1 0.2 0.1 0.1 0.1 0.1 0.1 0.1 0.1 0.1 0.1]\n",
            " [0.  0.  0.1 0.4 0.7 0.7 0.6 0.6 0.3 0.3 0.3 0.2 0.2 0.3 0.2 0.3 0.3 0.3 0.3 0.3 0.4 0.4 0.3 0.3 0.3 0.3 0.4 0.1]\n",
            " [0.  0.  0.  0.  0.  0.  0.2 0.4 0.4 0.5 0.6 0.5 0.5 0.6 0.1 0.2 0.2 0.2 0.1 0.1 0.4 0.4 0.4 0.4 0.4 0.4 0.4 0. ]\n",
            " [0.  0.  0.  0.  0.  0.  0.  0.  0.  0.  0.  0.  0.  0.  0.  0.  0.  0.  0.  0.  0.  0.  0.  0.  0.  0.  0.  0. ]\n",
            " [0.  0.  0.  0.  0.  0.  0.  0.  0.  0.  0.  0.  0.  0.  0.  0.  0.  0.  0.  0.  0.  0.  0.  0.  0.  0.  0.  0. ]\n",
            " [0.  0.  0.  0.  0.  0.  0.  0.  0.  0.  0.  0.  0.  0.  0.  0.  0.  0.  0.  0.  0.  0.  0.  0.  0.  0.  0.  0. ]\n",
            " [0.  0.  0.  0.  0.  0.  0.  0.  0.  0.  0.  0.  0.  0.  0.  0.  0.  0.  0.  0.  0.  0.  0.  0.  0.  0.  0.  0. ]\n",
            " [0.  0.  0.  0.  0.  0.  0.  0.  0.  0.  0.  0.  0.  0.  0.  0.  0.  0.  0.  0.  0.  0.  0.  0.  0.  0.  0.  0. ]]\n"
          ],
          "name": "stdout"
        },
        {
          "output_type": "display_data",
          "data": {
            "image/png": "[encoded data removed]",
            "text/plain": [
              "<Figure size 432x288 with 1 Axes>"
            ]
          },
          "metadata": {
            "tags": []
          }
        }
      ]
    },
    {
      "cell_type": "markdown",
      "metadata": {
        "id": "yT0wWpewrZg4",
        "colab_type": "text"
      },
      "source": [
        "# The model\n",
        "##Create the model and add layers"
      ]
    },
    {
      "cell_type": "code",
      "metadata": {
        "id": "nxUpYlskrcPM",
        "colab_type": "code",
        "outputId": "e4fc944d-df62-42ec-8eed-a5091b8f7448",
        "colab": {
          "base_uri": "https://localhost:8080/",
          "height": 593
        }
      },
      "source": [
        "my_model = Sequential()\n",
        "\n",
        "my_model.add( Conv2D(filters=64, kernel_size=(4,4), padding='same', activation='relu', input_shape=(28,28,1))) \n",
        "my_model.add( MaxPooling2D(pool_size=(2,2),strides=(2,2)))\n",
        "my_model.add( Dropout(rate=0.3))\n",
        "\n",
        "my_model.add( Conv2D(filters=64, kernel_size=(4,4), padding='same', activation='relu'))\n",
        "my_model.add( MaxPooling2D(pool_size=2))\n",
        "my_model.add( Dropout(0.3))\n",
        "\n",
        "my_model.add( Flatten())\n",
        "my_model.add( Dense(256, activation='relu'))\n",
        "#my_model.add( Dropout(0.5))\n",
        "my_model.add( Dense(10, activation='softmax'))\n",
        "\n",
        "# print the number of layers\n",
        "print('Number of layers: ' + str(len(my_model.layers)))\n",
        "\n",
        "# print sumary of the model and its layers\n",
        "my_model.summary()"
      ],
      "execution_count": 8,
      "outputs": [
        {
          "output_type": "stream",
          "text": [
            "WARNING:tensorflow:From /usr/local/lib/python3.6/dist-packages/tensorflow/python/framework/op_def_library.py:263: colocate_with (from tensorflow.python.framework.ops) is deprecated and will be removed in a future version.\n",
            "Instructions for updating:\n",
            "Colocations handled automatically by placer.\n",
            "WARNING:tensorflow:From /usr/local/lib/python3.6/dist-packages/keras/backend/tensorflow_backend.py:3445: calling dropout (from tensorflow.python.ops.nn_ops) with keep_prob is deprecated and will be removed in a future version.\n",
            "Instructions for updating:\n",
            "Please use `rate` instead of `keep_prob`. Rate should be set to `rate = 1 - keep_prob`.\n",
            "Number of layers: 9\n",
            "_________________________________________________________________\n",
            "Layer (type)                 Output Shape              Param #   \n",
            "=================================================================\n",
            "conv2d_1 (Conv2D)            (None, 28, 28, 64)        1088      \n",
            "_________________________________________________________________\n",
            "max_pooling2d_1 (MaxPooling2 (None, 14, 14, 64)        0         \n",
            "_________________________________________________________________\n",
            "dropout_1 (Dropout)          (None, 14, 14, 64)        0         \n",
            "_________________________________________________________________\n",
            "conv2d_2 (Conv2D)            (None, 14, 14, 64)        65600     \n",
            "_________________________________________________________________\n",
            "max_pooling2d_2 (MaxPooling2 (None, 7, 7, 64)          0         \n",
            "_________________________________________________________________\n",
            "dropout_2 (Dropout)          (None, 7, 7, 64)          0         \n",
            "_________________________________________________________________\n",
            "flatten_1 (Flatten)          (None, 3136)              0         \n",
            "_________________________________________________________________\n",
            "dense_1 (Dense)              (None, 256)               803072    \n",
            "_________________________________________________________________\n",
            "dense_2 (Dense)              (None, 10)                2570      \n",
            "=================================================================\n",
            "Total params: 872,330\n",
            "Trainable params: 872,330\n",
            "Non-trainable params: 0\n",
            "_________________________________________________________________\n"
          ],
          "name": "stdout"
        }
      ]
    },
    {
      "cell_type": "markdown",
      "metadata": {
        "id": "vQUSC9dNLH7S",
        "colab_type": "text"
      },
      "source": [
        "##Compile the model"
      ]
    },
    {
      "cell_type": "code",
      "metadata": {
        "id": "vkGAQGRsKaEn",
        "colab_type": "code",
        "colab": {}
      },
      "source": [
        "my_model.compile(loss='categorical_crossentropy',\n",
        "             optimizer='adam',\n",
        "             #optimizer='SGD',\n",
        "             #optimizer='RMSProp',\n",
        "             metrics=['accuracy'])"
      ],
      "execution_count": 0,
      "outputs": []
    },
    {
      "cell_type": "markdown",
      "metadata": {
        "id": "s6bIaeBaPnD4",
        "colab_type": "text"
      },
      "source": [
        "## Training\n",
        "Save training to history"
      ]
    },
    {
      "cell_type": "code",
      "metadata": {
        "id": "vJhPxCzCS-X4",
        "colab_type": "code",
        "outputId": "24a09094-25c2-4880-a557-1471c4cc9b5c",
        "colab": {
          "base_uri": "https://localhost:8080/",
          "height": 801
        }
      },
      "source": [
        "from keras.callbacks import ModelCheckpoint\n",
        "checkpointer = ModelCheckpoint(filepath='best.hdf5', verbose = 1, save_best_only=True)\n",
        "bs = 64\n",
        "ep = 10\n",
        "\n",
        "history = my_model.fit(x_train,\n",
        "         y_train,\n",
        "         batch_size=bs,\n",
        "         epochs=ep,\n",
        "         validation_data=(x_valid, y_valid),\n",
        "         callbacks=[checkpointer])"
      ],
      "execution_count": 10,
      "outputs": [
        {
          "output_type": "stream",
          "text": [
            "WARNING:tensorflow:From /usr/local/lib/python3.6/dist-packages/tensorflow/python/ops/math_ops.py:3066: to_int32 (from tensorflow.python.ops.math_ops) is deprecated and will be removed in a future version.\n",
            "Instructions for updating:\n",
            "Use tf.cast instead.\n",
            "Train on 55000 samples, validate on 5000 samples\n",
            "Epoch 1/10\n",
            "55000/55000 [==============================] - 9s 166us/step - loss: 0.4573 - acc: 0.8343 - val_loss: 0.2908 - val_acc: 0.8944\n",
            "\n",
            "Epoch 00001: val_loss improved from inf to 0.29079, saving model to best.hdf5\n",
            "Epoch 2/10\n",
            "55000/55000 [==============================] - 6s 100us/step - loss: 0.3044 - acc: 0.8890 - val_loss: 0.2673 - val_acc: 0.9008\n",
            "\n",
            "Epoch 00002: val_loss improved from 0.29079 to 0.26730, saving model to best.hdf5\n",
            "Epoch 3/10\n",
            "55000/55000 [==============================] - 5s 100us/step - loss: 0.2650 - acc: 0.9021 - val_loss: 0.2342 - val_acc: 0.9118\n",
            "\n",
            "Epoch 00003: val_loss improved from 0.26730 to 0.23417, saving model to best.hdf5\n",
            "Epoch 4/10\n",
            "55000/55000 [==============================] - 5s 99us/step - loss: 0.2412 - acc: 0.9103 - val_loss: 0.2360 - val_acc: 0.9118\n",
            "\n",
            "Epoch 00004: val_loss did not improve from 0.23417\n",
            "Epoch 5/10\n",
            "55000/55000 [==============================] - 6s 107us/step - loss: 0.2184 - acc: 0.9183 - val_loss: 0.2073 - val_acc: 0.9214\n",
            "\n",
            "Epoch 00005: val_loss improved from 0.23417 to 0.20732, saving model to best.hdf5\n",
            "Epoch 6/10\n",
            "55000/55000 [==============================] - 6s 108us/step - loss: 0.2024 - acc: 0.9243 - val_loss: 0.2085 - val_acc: 0.9222\n",
            "\n",
            "Epoch 00006: val_loss did not improve from 0.20732\n",
            "Epoch 7/10\n",
            "55000/55000 [==============================] - 5s 100us/step - loss: 0.1865 - acc: 0.9296 - val_loss: 0.1965 - val_acc: 0.9258\n",
            "\n",
            "Epoch 00007: val_loss improved from 0.20732 to 0.19647, saving model to best.hdf5\n",
            "Epoch 8/10\n",
            "55000/55000 [==============================] - 5s 99us/step - loss: 0.1740 - acc: 0.9337 - val_loss: 0.2145 - val_acc: 0.9198\n",
            "\n",
            "Epoch 00008: val_loss did not improve from 0.19647\n",
            "Epoch 9/10\n",
            "55000/55000 [==============================] - 5s 100us/step - loss: 0.1584 - acc: 0.9401 - val_loss: 0.2192 - val_acc: 0.9204\n",
            "\n",
            "Epoch 00009: val_loss did not improve from 0.19647\n",
            "Epoch 10/10\n",
            "55000/55000 [==============================] - 5s 99us/step - loss: 0.1523 - acc: 0.9422 - val_loss: 0.2126 - val_acc: 0.9212\n",
            "\n",
            "Epoch 00010: val_loss did not improve from 0.19647\n"
          ],
          "name": "stdout"
        }
      ]
    },
    {
      "cell_type": "markdown",
      "metadata": {
        "id": "BRPq4Rn_ks42",
        "colab_type": "text"
      },
      "source": [
        "## Plot feature map"
      ]
    },
    {
      "cell_type": "markdown",
      "metadata": {
        "id": "TE95EpHciyRM",
        "colab_type": "text"
      },
      "source": [
        "mount google drive"
      ]
    },
    {
      "cell_type": "code",
      "metadata": {
        "id": "efcr2EM6i5GY",
        "colab_type": "code",
        "outputId": "abec7879-a38d-4f35-deb9-1a5bf0a1a4db",
        "colab": {
          "base_uri": "https://localhost:8080/",
          "height": 124
        }
      },
      "source": [
        "if use_google_drive:\n",
        "  from google.colab import drive\n",
        "  drive.mount('/content/gdrive')"
      ],
      "execution_count": 11,
      "outputs": [
        {
          "output_type": "stream",
          "text": [
            "Go to this URL in a browser: https://accounts.google.com/o/oauth2/auth?client_id=947318989803-6bn6qk8qdgf4n4g3pfee6491hc0brc4i.apps.googleusercontent.com&redirect_uri=urn%3Aietf%3Awg%3Aoauth%3A2.0%3Aoob&scope=email%20https%3A%2F%2Fwww.googleapis.com%2Fauth%2Fdocs.test%20https%3A%2F%2Fwww.googleapis.com%2Fauth%2Fdrive%20https%3A%2F%2Fwww.googleapis.com%2Fauth%2Fdrive.photos.readonly%20https%3A%2F%2Fwww.googleapis.com%2Fauth%2Fpeopleapi.readonly&response_type=code\n",
            "\n",
            "Enter your authorization code:\n",
            "··········\n",
            "Mounted at /content/gdrive\n"
          ],
          "name": "stdout"
        }
      ]
    },
    {
      "cell_type": "markdown",
      "metadata": {
        "id": "vSzqfc9-TEAM",
        "colab_type": "text"
      },
      "source": [
        "## Plot success"
      ]
    },
    {
      "cell_type": "markdown",
      "metadata": {
        "id": "a48C1zmx7qcL",
        "colab_type": "text"
      },
      "source": [
        "Function to save image to google drive"
      ]
    },
    {
      "cell_type": "code",
      "metadata": {
        "id": "XTE7UQVJ7m3S",
        "colab_type": "code",
        "colab": {}
      },
      "source": [
        "import datetime\n",
        "def save_png(name,ep,bs):\n",
        "  date = datetime.datetime.now()\n",
        "  date = date.strftime(\"%y%m%d%H%M%S\")\n",
        "  print(date)\n",
        "  filename = name + '-' + date\n",
        "  if ep != 0:\n",
        "    filename += '-'+str(ep)+'epochs-'+str(bs)+'batch-size.png'\n",
        "  \n",
        "  plt.savefig('/content/gdrive/My Drive/'+filename, bbox_inches='tight')  \n",
        "  print('file probably saved to: ' + filename)\n",
        " # with open('/content/gdrive/My Drive/'+filename , 'w') as f:\n",
        " #   f.write('content')"
      ],
      "execution_count": 0,
      "outputs": []
    },
    {
      "cell_type": "code",
      "metadata": {
        "id": "k1e7z2BQPrDw",
        "colab_type": "code",
        "outputId": "5e36c62d-685f-4419-b604-397cdb87f4f5",
        "colab": {
          "base_uri": "https://localhost:8080/",
          "height": 608
        }
      },
      "source": [
        "# print(type(history.history))\n",
        "# print(len(history.history))\n",
        "# print(len(history.history['loss']))\n",
        "# print(history.history)\n",
        "\n",
        "# Plot training & validation accuracy values\n",
        "plt.plot(history.history['acc'])\n",
        "plt.plot(history.history['val_acc'])\n",
        "plt.title('Model accuracy, epochs: ' + str(ep) + ', batch size: ' + str(bs))\n",
        "plt.ylabel('Accuracy')\n",
        "plt.xlabel('Epoch')\n",
        "# plt.axis([0, len(history.history['loss']),0,1])\n",
        "plt.legend(['Train', 'Validaton'], loc='upper left')\n",
        "save_png('acc',ep,bs)\n",
        "plt.show()\n",
        "\n",
        "# Plot training & validation loss values\n",
        "plt.plot(history.history['loss'])\n",
        "plt.plot(history.history['val_loss'])\n",
        "plt.title('Model loss, epochs: '+ str(ep) + ', batch size: ' + str(bs))\n",
        "plt.ylabel('Loss')\n",
        "plt.xlabel('Epoch')\n",
        "\n",
        "#plt.axis([0, len(history.history['loss']),0,1])\n",
        "plt.axis\n",
        "plt.legend(['Train', 'Validation'], loc='upper left')\n",
        "plt.show()\n"
      ],
      "execution_count": 13,
      "outputs": [
        {
          "output_type": "stream",
          "text": [
            "190601060427\n",
            "file probably saved to: acc-190601060427-10epochs-64batch-size.png\n"
          ],
          "name": "stdout"
        },
        {
          "output_type": "display_data",
          "data": {
            "image/png": "[encoded data removed]",
            "text/plain": [
              "<Figure size 432x288 with 1 Axes>"
            ]
          },
          "metadata": {
            "tags": []
          }
        },
        {
          "output_type": "display_data",
          "data": {
            "image/png": "[encoded data removed]",
            "text/plain": [
              "<Figure size 432x288 with 1 Axes>"
            ]
          },
          "metadata": {
            "tags": []
          }
        }
      ]
    },
    {
      "cell_type": "markdown",
      "metadata": {
        "id": "KFmm13sO--ot",
        "colab_type": "text"
      },
      "source": [
        "**Visualize a feature map / activation**"
      ]
    },
    {
      "cell_type": "code",
      "metadata": {
        "id": "nNlXxMlJlBP3",
        "colab_type": "code",
        "colab": {}
      },
      "source": [
        "from keras import models\n",
        "\n",
        "# Extracts the outputs of the top 8 layers:\n",
        "layer_outputs = [layer.output for layer in my_model.layers[:6]]\n",
        "# Creates a model that will return these outputs, given the model input:\n",
        "activation_model = models.Model(inputs=my_model.input, outputs=layer_outputs)"
      ],
      "execution_count": 0,
      "outputs": []
    },
    {
      "cell_type": "code",
      "metadata": {
        "id": "g96HxbbsrvYU",
        "colab_type": "code",
        "outputId": "180613f0-b548-4d4f-8cf8-9bb9b1b69312",
        "colab": {
          "base_uri": "https://localhost:8080/",
          "height": 327
        }
      },
      "source": [
        "img_tensor = x_train[img_index]\n",
        "# reshape from 3d to 4d\n",
        "img_tensor = img_tensor.reshape(1,28,28,1)\n",
        "activations = activation_model.predict(img_tensor)\n",
        "first_layer_activation = activations[0]\n",
        "print(\"Dimensions in the first activation layer: \" + str(first_layer_activation.shape[3]))\n",
        "\n",
        "if use_matplotlib:\n",
        "  plt.matshow(first_layer_activation[0, :, :, 33], cmap='magma')\n",
        "  save_png('feature-map',0,0)\n",
        "  plt.show()"
      ],
      "execution_count": 15,
      "outputs": [
        {
          "output_type": "stream",
          "text": [
            "Dimensions in the first activation layer: 64\n",
            "190601060428\n",
            "file probably saved to: feature-map-190601060428\n"
          ],
          "name": "stdout"
        },
        {
          "output_type": "display_data",
          "data": {
            "image/png": "[encoded data removed]",
            "text/plain": [
              "<Figure size 288x288 with 1 Axes>"
            ]
          },
          "metadata": {
            "tags": []
          }
        }
      ]
    },
    {
      "cell_type": "markdown",
      "metadata": {
        "id": "oMVq_um-uD_x",
        "colab_type": "text"
      },
      "source": [
        "##Evaluate the model\n",
        "Load the model with the optimal number of epochs. Predict and evaluate on the test-set."
      ]
    },
    {
      "cell_type": "code",
      "metadata": {
        "id": "qGRkbfAbuBG5",
        "colab_type": "code",
        "outputId": "9ad2e451-0c63-4e34-c40c-59037c1b9a86",
        "colab": {
          "base_uri": "https://localhost:8080/",
          "height": 191
        }
      },
      "source": [
        "my_model.load_weights('best.hdf5')\n",
        "\n",
        "predictions = my_model.predict(x_test)\n",
        "for prediction in predictions[:3]:\n",
        "  print(prediction)\n",
        "  \n",
        "\n",
        "score = my_model.evaluate(x_test, y_test, verbose=1)\n",
        "print(my_model.metrics_names)\n",
        "print(score)\n",
        "# Show test accuracy\n",
        "print('Loss: ', score[0],', Accuracy:', score[1])"
      ],
      "execution_count": 16,
      "outputs": [
        {
          "output_type": "stream",
          "text": [
            "[4.6097497e-08 1.9634514e-08 1.1863065e-09 1.1158708e-07 1.4092194e-10 8.1628577e-06 1.8058172e-08 9.0378002e-05\n",
            " 9.7342001e-10 9.9990129e-01]\n",
            "[8.6439162e-05 6.6998833e-09 9.9955648e-01 9.6410349e-07 2.7542039e-05 2.6115582e-10 3.2865774e-04 1.2749253e-09\n",
            " 2.9682178e-08 5.8719402e-10]\n",
            "[2.4681248e-09 9.9999988e-01 4.7854171e-10 8.5668603e-08 2.5175484e-09 2.5601156e-14 3.7037939e-09 1.2568721e-15\n",
            " 1.2045214e-12 6.9711252e-14]\n",
            "10000/10000 [==============================] - 1s 60us/step\n",
            "['loss', 'acc']\n",
            "[0.22027545638084411, 0.922]\n",
            "Loss:  0.22027545638084411 , Accuracy: 0.922\n"
          ],
          "name": "stdout"
        }
      ]
    },
    {
      "cell_type": "code",
      "metadata": {
        "id": "hLJmyqsQi1fc",
        "colab_type": "code",
        "colab": {}
      },
      "source": [
        ""
      ],
      "execution_count": 0,
      "outputs": []
    }
  ]
}