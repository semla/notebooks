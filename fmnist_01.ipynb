{
  "nbformat": 4,
  "nbformat_minor": 0,
  "metadata": {
    "colab": {
      "name": "fmnist-01.ipynb",
      "version": "0.3.2",
      "provenance": [],
      "collapsed_sections": [],
      "include_colab_link": true
    },
    "kernelspec": {
      "name": "python3",
      "display_name": "Python 3"
    },
    "accelerator": "GPU"
  },
  "cells": [
    {
      "cell_type": "markdown",
      "metadata": {
        "id": "view-in-github",
        "colab_type": "text"
      },
      "source": [
        "<a href=\"https://colab.research.google.com/github/semla/notebooks/blob/master/fmnist_01.ipynb\" target=\"_parent\"><img src=\"https://colab.research.google.com/assets/colab-badge.svg\" alt=\"Open In Colab\"/></a>"
      ]
    },
    {
      "metadata": {
        "id": "VtEcg8p3gR3_",
        "colab_type": "text"
      },
      "cell_type": "markdown",
      "source": [
        "# Install dependencies & import\n",
        "Install Keras and Tensorflow using pip."
      ]
    },
    {
      "metadata": {
        "id": "rjxoiYwLfV3A",
        "colab_type": "code",
        "colab": {}
      },
      "cell_type": "code",
      "source": [
        "!pip install -U keras tensorflow>=1.8.0 "
      ],
      "execution_count": 0,
      "outputs": []
    },
    {
      "metadata": {
        "id": "1LEzzRPjrHzJ",
        "colab_type": "text"
      },
      "cell_type": "markdown",
      "source": [
        "Import statemets and use gpu"
      ]
    },
    {
      "metadata": {
        "id": "DRk8v2zUgLgY",
        "colab_type": "code",
        "outputId": "cee876bf-5487-4404-a800-8306e43a9e2e",
        "colab": {
          "base_uri": "https://localhost:8080/",
          "height": 52
        }
      },
      "cell_type": "code",
      "source": [
        "# from keras.applications.resnet50 import ResNet50\n",
        "# from keras.applications.resnet50 import preprocess_input, decode_predictions\n",
        "\n",
        "from keras.preprocessing import image\n",
        "from keras.models import Sequential # For sequential models, not functional\n",
        "from keras.layers import Dense, Activation,MaxPooling2D, Dropout, Conv2D, Flatten # the layers used\n",
        "from keras.datasets import fashion_mnist\n",
        "from keras.utils import to_categorical # one-hot encoding\n",
        "\n",
        "import numpy as np\n",
        "import matplotlib.pyplot as plt\n",
        "import tensorflow as tf # tensorflow is the backend\n",
        "\n",
        "device_name = tf.test.gpu_device_name()\n",
        "if device_name != '/device:GPU:0':\n",
        "  raise SystemError('GPU device not found')\n",
        "print('Using GPU at: {}'.format(device_name))\n"
      ],
      "execution_count": 0,
      "outputs": [
        {
          "output_type": "stream",
          "text": [
            "Using TensorFlow backend.\n"
          ],
          "name": "stderr"
        },
        {
          "output_type": "stream",
          "text": [
            "Using GPU at: /device:GPU:0\n"
          ],
          "name": "stdout"
        }
      ]
    },
    {
      "metadata": {
        "id": "tx_0GeqAsGXu",
        "colab_type": "text"
      },
      "cell_type": "markdown",
      "source": [
        "# Load data & some preprocessing"
      ]
    },
    {
      "metadata": {
        "id": "AZ4Y7HLoixEV",
        "colab_type": "code",
        "outputId": "efe2c5a4-6b42-48c6-ffe3-ddcaa7e10687",
        "colab": {
          "base_uri": "https://localhost:8080/",
          "height": 208
        }
      },
      "cell_type": "code",
      "source": [
        "# Load the fashion-mnist pre-shuffled train data and test data\n",
        "(x_train, y_train), (x_test, y_test) = fashion_mnist.load_data()\n",
        "\n",
        "# Print training set shape - note there are 60,000 training data of image size of 28x28, 60,000 train labels)\n",
        "print(\"x_train shape:\", x_train.shape, \"y_train shape:\", y_train.shape)\n",
        "\n",
        "# Print the number of training and test datasets\n",
        "print(x_train.shape[0], 'train set')\n",
        "print(x_test.shape[0], 'test set')\n",
        "\n",
        "# Define the text labels\n",
        "fashion_mnist_labels = [\"T-shirt/top\",  # index 0\n",
        "                        \"Trouser\",      # index 1\n",
        "                        \"Pullover\",     # index 2 \n",
        "                        \"Dress\",        # index 3 \n",
        "                        \"Coat\",         # index 4\n",
        "                        \"Sandal\",       # index 5\n",
        "                        \"Shirt\",        # index 6 \n",
        "                        \"Sneaker\",      # index 7 \n",
        "                        \"Bag\",          # index 8 \n",
        "                        \"Ankle boot\"]   # index 9\n"
      ],
      "execution_count": 0,
      "outputs": [
        {
          "output_type": "stream",
          "text": [
            "Downloading data from http://fashion-mnist.s3-website.eu-central-1.amazonaws.com/train-labels-idx1-ubyte.gz\n",
            "32768/29515 [=================================] - 0s 5us/step\n",
            "Downloading data from http://fashion-mnist.s3-website.eu-central-1.amazonaws.com/train-images-idx3-ubyte.gz\n",
            "26427392/26421880 [==============================] - 2s 0us/step\n",
            "Downloading data from http://fashion-mnist.s3-website.eu-central-1.amazonaws.com/t10k-labels-idx1-ubyte.gz\n",
            "8192/5148 [===============================================] - 0s 0us/step\n",
            "Downloading data from http://fashion-mnist.s3-website.eu-central-1.amazonaws.com/t10k-images-idx3-ubyte.gz\n",
            "4423680/4422102 [==============================] - 1s 0us/step\n",
            "x_train shape: (60000, 28, 28) y_train shape: (60000,)\n",
            "60000 train set\n",
            "10000 test set\n"
          ],
          "name": "stdout"
        }
      ]
    },
    {
      "metadata": {
        "id": "FFpw7yorqsWJ",
        "colab_type": "text"
      },
      "cell_type": "markdown",
      "source": [
        "Normalization  & add a dimension for channel. Even if it is black & white images Keras wants a number for channels."
      ]
    },
    {
      "metadata": {
        "id": "XLXfDHz0h2Oj",
        "colab_type": "code",
        "outputId": "f3cc85e7-1975-42bb-f73f-aa34273ca029",
        "colab": {
          "base_uri": "https://localhost:8080/",
          "height": 34
        }
      },
      "cell_type": "code",
      "source": [
        "x_train = x_train.astype('float32') / 255\n",
        "x_test = x_test.astype('float32') / 255\n",
        "\n",
        "# the preprocess_input wants samples, x-values, y-values and channels\n",
        "# since black & white only one channel, we need to add it?\n",
        "x_train = x_train.reshape(x_train.shape[0], 28, 28, 1)\n",
        "x_test = x_test.reshape(x_test.shape[0], 28, 28, 1)\n",
        "print(x_train[0][0][0])\n",
        "\n",
        "# One-hot encode the labels\n",
        "y_train = to_categorical(y_train, 10)\n",
        "y_test = to_categorical(y_test, 10)\n"
      ],
      "execution_count": 0,
      "outputs": [
        {
          "output_type": "stream",
          "text": [
            "[0.]\n"
          ],
          "name": "stdout"
        }
      ]
    },
    {
      "metadata": {
        "id": "y0P_eWjrCvTp",
        "colab_type": "code",
        "colab": {}
      },
      "cell_type": "code",
      "source": [
        "# Further break training data into train / validation sets (# put 5000 into validation set and keep remaining 55,000 for train)\n",
        "(x_train, x_valid) = x_train[5000:], x_train[:5000] \n",
        "(y_train, y_valid) = y_train[5000:], y_train[:5000]"
      ],
      "execution_count": 0,
      "outputs": []
    },
    {
      "metadata": {
        "id": "3cUbVvfWIwDW",
        "colab_type": "text"
      },
      "cell_type": "markdown",
      "source": [
        "# Explore the data.\n",
        "Take a look at the y_train which, is now one-hot-encoded.\n",
        "Print the matrix of pixel values representing an image.\n",
        "Print the actual image."
      ]
    },
    {
      "metadata": {
        "id": "mkLwP3amItip",
        "colab_type": "code",
        "outputId": "86d97186-7ca8-446a-f178-7d7607c69eec",
        "colab": {
          "base_uri": "https://localhost:8080/",
          "height": 903
        }
      },
      "cell_type": "code",
      "source": [
        "# Choose one of the 60000 training samples\n",
        "img_index = 2\n",
        "# y_train contains the lables, ranging from 0 to 9\n",
        "print(\"Row number \" + str(img_index) +\" of the labels: \" + str(y_train[img_index]))\n",
        "# print(type(y_train[img_index]))\n",
        "label_index=np.argmax(y_train[img_index])\n",
        "#label_index = y_train[img_index]\n",
        "# Print the label, for example 2 Pullover\n",
        "print (\"Category \"+str(label_index+1) + \" is \" +(fashion_mnist_labels[label_index]))\n",
        "#print(y_train[2].shape)\n",
        "#print(x_train[0])\n",
        "\n",
        "# # Show one of the images from the training dataset\n",
        "\n",
        "# reshaping neccessary to only show the columns with actual pixel data (not the one added with reshape above)\n",
        "img=x_train[img_index].reshape(28,28)\n",
        "np.set_printoptions(linewidth=125)\n",
        "print(\"The matrix of pixel values for sample \" + str(img_index) + \":\\n\" + str(np.around(img,1)))\n",
        "# img =img.reshape(28,28)\n",
        "plt.imshow(img)\n",
        "\n",
        "\n"
      ],
      "execution_count": 0,
      "outputs": [
        {
          "output_type": "stream",
          "text": [
            "Row number 2 of the labels: [0. 0. 0. 0. 0. 0. 0. 1. 0. 0.]\n",
            "Category 8 is Sneaker\n",
            "The matrix of pixel values for sample 2:\n",
            "[[0.  0.  0.  0.  0.  0.  0.  0.  0.  0.  0.  0.  0.  0.  0.  0.  0.  0.  0.  0.  0.  0.  0.  0.  0.  0.  0.  0. ]\n",
            " [0.  0.  0.  0.  0.  0.  0.  0.  0.  0.  0.  0.  0.  0.  0.  0.  0.  0.  0.  0.  0.  0.  0.  0.  0.  0.  0.  0. ]\n",
            " [0.  0.  0.  0.  0.  0.  0.  0.  0.  0.  0.  0.  0.  0.  0.  0.  0.  0.  0.  0.  0.  0.  0.  0.  0.  0.  0.  0. ]\n",
            " [0.  0.  0.  0.  0.  0.  0.  0.  0.  0.  0.  0.  0.  0.  0.  0.  0.  0.  0.  0.  0.  0.  0.  0.  0.  0.  0.  0. ]\n",
            " [0.  0.  0.  0.  0.  0.  0.  0.  0.  0.  0.  0.  0.  0.  0.  0.  0.  0.  0.  0.  0.  0.  0.  0.  0.  0.  0.  0. ]\n",
            " [0.  0.  0.  0.  0.  0.  0.  0.  0.  0.  0.  0.  0.  0.  0.  0.  0.  0.  0.  0.  0.  0.  0.  0.  0.  0.  0.  0. ]\n",
            " [0.  0.  0.  0.  0.  0.  0.  0.  0.  0.  0.  0.  0.  0.  0.  0.  0.1 0.  0.5 0.4 0.  0.  0.  0.  0.  0.  0.  0. ]\n",
            " [0.  0.  0.  0.  0.  0.  0.  0.  0.  0.  0.  0.  0.  0.  0.  0.  0.5 0.5 0.5 0.6 0.8 0.7 0.6 0.3 0.1 0.  0.  0. ]\n",
            " [0.  0.  0.  0.  0.  0.  0.  0.  0.  0.  0.  0.  0.  0.  0.  0.1 0.6 1.  0.6 0.6 0.9 0.7 0.7 0.6 0.7 0.5 0.2 0. ]\n",
            " [0.  0.  0.  0.  0.  0.  0.  0.  0.  0.  0.  0.  0.  0.  0.  0.  0.4 0.6 0.4 0.9 0.8 0.7 0.6 0.5 0.5 0.6 0.7 0. ]\n",
            " [0.  0.  0.  0.  0.  0.  0.  0.  0.  0.  0.  0.  0.  0.  0.3 0.6 0.9 0.3 0.5 0.8 0.8 0.8 0.4 0.4 0.4 0.5 0.5 0. ]\n",
            " [0.  0.  0.  0.  0.  0.  0.  0.  0.  0.  0.  0.  0.  0.1 0.1 0.6 0.8 0.8 0.7 0.8 0.6 0.6 0.6 0.5 0.5 0.5 0.6 0.1]\n",
            " [0.  0.  0.  0.  0.  0.  0.  0.  0.  0.1 0.  0.1 0.  0.4 0.7 0.4 0.2 0.6 0.8 0.8 0.6 0.4 0.5 0.5 0.5 0.5 0.9 0.2]\n",
            " [0.  0.  0.  0.  0.  0.  0.  0.  0.  0.1 0.1 0.3 0.5 0.  0.4 0.5 0.6 0.9 0.6 0.6 0.6 0.4 0.3 0.3 0.4 0.4 0.7 0.1]\n",
            " [0.  0.  0.  0.  0.  0.  0.  0.  0.1 0.2 0.4 0.  0.7 0.4 0.3 0.5 0.8 0.7 0.6 0.5 0.6 0.7 0.6 0.5 0.4 0.4 0.6 0.2]\n",
            " [0.  0.  0.1 0.2 0.3 0.3 0.3 0.4 0.1 0.5 0.9 0.1 0.2 0.5 0.8 0.9 0.7 0.5 0.5 0.5 0.5 0.6 0.6 0.5 0.6 0.5 0.6 0.3]\n",
            " [0.  0.1 0.3 0.3 0.2 0.1 0.1 0.3 0.3 0.3 0.3 0.5 0.7 0.7 0.7 0.6 0.6 0.6 0.6 0.5 0.4 0.5 0.5 0.5 0.6 0.5 0.6 0.3]\n",
            " [0.  0.1 0.  0.1 0.1 0.1 0.4 0.4 0.3 0.5 0.5 0.7 0.7 0.7 0.7 0.7 0.7 0.7 0.7 0.5 0.5 0.5 0.5 0.7 0.6 0.6 0.7 0.4]\n",
            " [0.  0.1 0.1 0.1 0.1 0.1 0.2 0.3 0.4 0.5 0.5 0.5 0.5 0.6 0.7 0.7 0.6 0.6 0.6 0.5 0.4 0.4 0.6 0.7 0.6 0.5 0.5 0.3]\n",
            " [0.3 0.2 0.  0.1 0.2 0.1 0.1 0.1 0.  0.1 0.1 0.1 0.1 0.1 0.1 0.1 0.1 0.1 0.1 0.1 0.1 0.2 0.2 0.1 0.1 0.1 0.1 0.1]\n",
            " [0.1 0.6 0.5 0.4 0.2 0.1 0.1 0.1 0.2 0.2 0.1 0.2 0.1 0.1 0.2 0.2 0.1 0.1 0.2 0.1 0.1 0.1 0.1 0.1 0.1 0.1 0.1 0.1]\n",
            " [0.  0.  0.1 0.4 0.7 0.7 0.6 0.6 0.3 0.3 0.3 0.2 0.2 0.3 0.2 0.3 0.3 0.3 0.3 0.3 0.4 0.4 0.3 0.3 0.3 0.3 0.4 0.1]\n",
            " [0.  0.  0.  0.  0.  0.  0.2 0.4 0.4 0.5 0.6 0.5 0.5 0.6 0.1 0.2 0.2 0.2 0.1 0.1 0.4 0.4 0.4 0.4 0.4 0.4 0.4 0. ]\n",
            " [0.  0.  0.  0.  0.  0.  0.  0.  0.  0.  0.  0.  0.  0.  0.  0.  0.  0.  0.  0.  0.  0.  0.  0.  0.  0.  0.  0. ]\n",
            " [0.  0.  0.  0.  0.  0.  0.  0.  0.  0.  0.  0.  0.  0.  0.  0.  0.  0.  0.  0.  0.  0.  0.  0.  0.  0.  0.  0. ]\n",
            " [0.  0.  0.  0.  0.  0.  0.  0.  0.  0.  0.  0.  0.  0.  0.  0.  0.  0.  0.  0.  0.  0.  0.  0.  0.  0.  0.  0. ]\n",
            " [0.  0.  0.  0.  0.  0.  0.  0.  0.  0.  0.  0.  0.  0.  0.  0.  0.  0.  0.  0.  0.  0.  0.  0.  0.  0.  0.  0. ]\n",
            " [0.  0.  0.  0.  0.  0.  0.  0.  0.  0.  0.  0.  0.  0.  0.  0.  0.  0.  0.  0.  0.  0.  0.  0.  0.  0.  0.  0. ]]\n"
          ],
          "name": "stdout"
        },
        {
          "output_type": "execute_result",
          "data": {
            "text/plain": [
              "<matplotlib.image.AxesImage at 0x7f605cd63748>"
            ]
          },
          "metadata": {
            "tags": []
          },
          "execution_count": 18
        },
        {
          "output_type": "display_data",
          "data": {
            "image/png": "[encoded data removed]",
            "text/plain": [
              "<matplotlib.figure.Figure at 0x7f60dbcfd630>"
            ]
          },
          "metadata": {
            "tags": []
          }
        }
      ]
    },
    {
      "metadata": {
        "id": "yT0wWpewrZg4",
        "colab_type": "text"
      },
      "cell_type": "markdown",
      "source": [
        "# The model\n",
        "##Create the model and add layers"
      ]
    },
    {
      "metadata": {
        "id": "nxUpYlskrcPM",
        "colab_type": "code",
        "outputId": "fa1727a9-eb06-41bf-f609-6633a24b46f2",
        "colab": {
          "base_uri": "https://localhost:8080/",
          "height": 469
        }
      },
      "cell_type": "code",
      "source": [
        "my_model = Sequential()\n",
        "\n",
        "my_model.add( Conv2D(filters=64, kernel_size=(4,4), padding='same', activation='relu', input_shape=(28,28,1))) \n",
        "my_model.add( MaxPooling2D(pool_size=(2,2),strides=(2,2)))\n",
        "my_model.add( Dropout(rate=0.3))\n",
        "\n",
        "my_model.add( Conv2D(filters=64, kernel_size=(4,4), padding='same', activation='relu'))\n",
        "my_model.add( MaxPooling2D(pool_size=2))\n",
        "my_model.add( Dropout(0.3))\n",
        "\n",
        "my_model.add( Flatten())\n",
        "my_model.add( Dense(256, activation='relu'))\n",
        "#my_model.add( Dropout(0.5))\n",
        "my_model.add( Dense(10, activation='softmax'))\n",
        "\n",
        "# print the number of layers\n",
        "print('Number of layers: ' + str(len(my_model.layers)))\n",
        "\n",
        "# print sumary of the model and its layers\n",
        "my_model.summary()"
      ],
      "execution_count": 0,
      "outputs": [
        {
          "output_type": "stream",
          "text": [
            "Number of layers: 9\n",
            "_________________________________________________________________\n",
            "Layer (type)                 Output Shape              Param #   \n",
            "=================================================================\n",
            "conv2d_29 (Conv2D)           (None, 28, 28, 64)        1088      \n",
            "_________________________________________________________________\n",
            "max_pooling2d_29 (MaxPooling (None, 14, 14, 64)        0         \n",
            "_________________________________________________________________\n",
            "dropout_38 (Dropout)         (None, 14, 14, 64)        0         \n",
            "_________________________________________________________________\n",
            "conv2d_30 (Conv2D)           (None, 14, 14, 64)        65600     \n",
            "_________________________________________________________________\n",
            "max_pooling2d_30 (MaxPooling (None, 7, 7, 64)          0         \n",
            "_________________________________________________________________\n",
            "dropout_39 (Dropout)         (None, 7, 7, 64)          0         \n",
            "_________________________________________________________________\n",
            "flatten_15 (Flatten)         (None, 3136)              0         \n",
            "_________________________________________________________________\n",
            "dense_29 (Dense)             (None, 256)               803072    \n",
            "_________________________________________________________________\n",
            "dense_30 (Dense)             (None, 10)                2570      \n",
            "=================================================================\n",
            "Total params: 872,330\n",
            "Trainable params: 872,330\n",
            "Non-trainable params: 0\n",
            "_________________________________________________________________\n"
          ],
          "name": "stdout"
        }
      ]
    },
    {
      "metadata": {
        "id": "vQUSC9dNLH7S",
        "colab_type": "text"
      },
      "cell_type": "markdown",
      "source": [
        "##Compile the model"
      ]
    },
    {
      "metadata": {
        "id": "vkGAQGRsKaEn",
        "colab_type": "code",
        "colab": {}
      },
      "cell_type": "code",
      "source": [
        "my_model.compile(loss='categorical_crossentropy',\n",
        "             optimizer='adam',\n",
        "             #optimizer='SGD',\n",
        "             #optimizer='RMSProp',\n",
        "             metrics=['accuracy'])"
      ],
      "execution_count": 0,
      "outputs": []
    },
    {
      "metadata": {
        "id": "s6bIaeBaPnD4",
        "colab_type": "text"
      },
      "cell_type": "markdown",
      "source": [
        "## Training\n",
        "Save training to history"
      ]
    },
    {
      "metadata": {
        "id": "vJhPxCzCS-X4",
        "colab_type": "code",
        "outputId": "e529a1dd-6f10-41f4-af05-20693dc49733",
        "colab": {
          "base_uri": "https://localhost:8080/",
          "height": 729
        }
      },
      "cell_type": "code",
      "source": [
        "from keras.callbacks import ModelCheckpoint\n",
        "checkpointer = ModelCheckpoint(filepath='best.hdf5', verbose = 1, save_best_only=True)\n",
        "bs = 64\n",
        "ep = 10\n",
        "\n",
        "history = my_model.fit(x_train,\n",
        "         y_train,\n",
        "         batch_size=bs,\n",
        "         epochs=ep,\n",
        "         validation_data=(x_valid, y_valid),\n",
        "         callbacks=[checkpointer])"
      ],
      "execution_count": 0,
      "outputs": [
        {
          "output_type": "stream",
          "text": [
            "Train on 55000 samples, validate on 5000 samples\n",
            "Epoch 1/10\n",
            "55000/55000 [==============================] - 14s 254us/step - loss: 0.4632 - acc: 0.8312 - val_loss: 0.3111 - val_acc: 0.8876\n",
            "\n",
            "Epoch 00001: val_loss improved from inf to 0.31115, saving model to best.hdf5\n",
            "Epoch 2/10\n",
            "55000/55000 [==============================] - 13s 227us/step - loss: 0.3042 - acc: 0.8898 - val_loss: 0.2577 - val_acc: 0.9064\n",
            "\n",
            "Epoch 00002: val_loss improved from 0.31115 to 0.25766, saving model to best.hdf5\n",
            "Epoch 3/10\n",
            "55000/55000 [==============================] - 12s 227us/step - loss: 0.2644 - acc: 0.9015 - val_loss: 0.2442 - val_acc: 0.9108\n",
            "\n",
            "Epoch 00003: val_loss improved from 0.25766 to 0.24421, saving model to best.hdf5\n",
            "Epoch 4/10\n",
            "55000/55000 [==============================] - 13s 228us/step - loss: 0.2385 - acc: 0.9108 - val_loss: 0.2180 - val_acc: 0.9164\n",
            "\n",
            "Epoch 00004: val_loss improved from 0.24421 to 0.21798, saving model to best.hdf5\n",
            "Epoch 5/10\n",
            "55000/55000 [==============================] - 13s 227us/step - loss: 0.2192 - acc: 0.9167 - val_loss: 0.2168 - val_acc: 0.9180\n",
            "\n",
            "Epoch 00005: val_loss improved from 0.21798 to 0.21679, saving model to best.hdf5\n",
            "Epoch 6/10\n",
            "55000/55000 [==============================] - 13s 227us/step - loss: 0.2001 - acc: 0.9243 - val_loss: 0.2058 - val_acc: 0.9206\n",
            "\n",
            "Epoch 00006: val_loss improved from 0.21679 to 0.20579, saving model to best.hdf5\n",
            "Epoch 7/10\n",
            "55000/55000 [==============================] - 12s 227us/step - loss: 0.1853 - acc: 0.9298 - val_loss: 0.1996 - val_acc: 0.9276\n",
            "\n",
            "Epoch 00007: val_loss improved from 0.20579 to 0.19958, saving model to best.hdf5\n",
            "Epoch 8/10\n",
            "55000/55000 [==============================] - 12s 227us/step - loss: 0.1723 - acc: 0.9343 - val_loss: 0.1979 - val_acc: 0.9282\n",
            "\n",
            "Epoch 00008: val_loss improved from 0.19958 to 0.19787, saving model to best.hdf5\n",
            "Epoch 9/10\n",
            "55000/55000 [==============================] - 13s 227us/step - loss: 0.1596 - acc: 0.9398 - val_loss: 0.2083 - val_acc: 0.9232\n",
            "\n",
            "Epoch 00009: val_loss did not improve from 0.19787\n",
            "Epoch 10/10\n",
            "55000/55000 [==============================] - 13s 227us/step - loss: 0.1497 - acc: 0.9421 - val_loss: 0.1929 - val_acc: 0.9314\n",
            "\n",
            "Epoch 00010: val_loss improved from 0.19787 to 0.19291, saving model to best.hdf5\n"
          ],
          "name": "stdout"
        }
      ]
    },
    {
      "metadata": {
        "id": "BRPq4Rn_ks42",
        "colab_type": "text"
      },
      "cell_type": "markdown",
      "source": [
        "## Plot feature map"
      ]
    },
    {
      "metadata": {
        "id": "TE95EpHciyRM",
        "colab_type": "text"
      },
      "cell_type": "markdown",
      "source": [
        "mount google drive"
      ]
    },
    {
      "metadata": {
        "id": "efcr2EM6i5GY",
        "colab_type": "code",
        "outputId": "bd208b66-3e69-4c7c-a93a-674ee205524c",
        "colab": {
          "base_uri": "https://localhost:8080/",
          "height": 124
        }
      },
      "cell_type": "code",
      "source": [
        "from google.colab import drive\n",
        "drive.mount('/content/gdrive')"
      ],
      "execution_count": 0,
      "outputs": [
        {
          "output_type": "stream",
          "text": [
            "Go to this URL in a browser: https://accounts.google.com/o/oauth2/auth?client_id=947318989803-6bn6qk8qdgf4n4g3pfee6491hc0brc4i.apps.googleusercontent.com&redirect_uri=urn%3Aietf%3Awg%3Aoauth%3A2.0%3Aoob&scope=email%20https%3A%2F%2Fwww.googleapis.com%2Fauth%2Fdocs.test%20https%3A%2F%2Fwww.googleapis.com%2Fauth%2Fdrive%20https%3A%2F%2Fwww.googleapis.com%2Fauth%2Fdrive.photos.readonly%20https%3A%2F%2Fwww.googleapis.com%2Fauth%2Fpeopleapi.readonly&response_type=code\n",
            "\n",
            "Enter your authorization code:\n",
            "··········\n",
            "Mounted at /content/gdrive\n"
          ],
          "name": "stdout"
        }
      ]
    },
    {
      "metadata": {
        "id": "a48C1zmx7qcL",
        "colab_type": "text"
      },
      "cell_type": "markdown",
      "source": [
        "Function to save image to google drive"
      ]
    },
    {
      "metadata": {
        "id": "XTE7UQVJ7m3S",
        "colab_type": "code",
        "colab": {}
      },
      "cell_type": "code",
      "source": [
        "import datetime\n",
        "def save_png(name,ep,bs):\n",
        "  date = datetime.datetime.now()\n",
        "  date = date.strftime(\"%y%m%d%H%M%S\")\n",
        "  print(date)\n",
        "  filename = name + '-' + date\n",
        "  if ep != 0:\n",
        "    filename += '-'+str(ep)+'epochs-'+str(bs)+'batch-size.png'\n",
        "  \n",
        "  plt.savefig('/content/gdrive/My Drive/'+filename, bbox_inches='tight')  \n",
        "  print('file probably saved to: ' + filename)\n",
        " # with open('/content/gdrive/My Drive/'+filename , 'w') as f:\n",
        " #   f.write('content')"
      ],
      "execution_count": 0,
      "outputs": []
    },
    {
      "metadata": {
        "id": "nNlXxMlJlBP3",
        "colab_type": "code",
        "outputId": "a97e0e9d-f04c-4830-8489-c9531519e06c",
        "colab": {
          "base_uri": "https://localhost:8080/",
          "height": 52
        }
      },
      "cell_type": "code",
      "source": [
        "from keras import models\n",
        "\n",
        "# Extracts the outputs of the top 8 layers:\n",
        "layer_outputs = [layer.output for layer in my_model.layers[:6]]\n",
        "# Creates a model that will return these outputs, given the model input:\n",
        "activation_model = models.Model(inputs=my_model.input, outputs=layer_outputs)\n",
        "\n",
        "print(len(my_model.layers))\n",
        "print(len(activation_model.layers))\n"
      ],
      "execution_count": 0,
      "outputs": [
        {
          "output_type": "stream",
          "text": [
            "9\n",
            "7\n"
          ],
          "name": "stdout"
        }
      ]
    },
    {
      "metadata": {
        "id": "g96HxbbsrvYU",
        "colab_type": "code",
        "outputId": "8832ebca-26f8-4043-fd90-d0e07ea3857b",
        "colab": {
          "base_uri": "https://localhost:8080/",
          "height": 459
        }
      },
      "cell_type": "code",
      "source": [
        "img_tensor = x_train[img_index]\n",
        "print(img_tensor.shape)\n",
        "img_tensor = img_tensor.reshape(1,28,28,1)\n",
        "print(img_tensor.shape)\n",
        "activations = activation_model.predict(img_tensor)\n",
        "first_layer_activation = activations[0]\n",
        "print(first_layer_activation.shape)\n",
        "\n",
        "plt.matshow(first_layer_activation[0, :, :, 0], cmap='magma')\n",
        "save_png('feature-map',0,0)\n",
        "plt.show()\n",
        "\n",
        "first_layer_activation.shape"
      ],
      "execution_count": 0,
      "outputs": [
        {
          "output_type": "stream",
          "text": [
            "(28, 28, 1)\n",
            "(1, 28, 28, 1)\n",
            "(1, 28, 28, 64)\n",
            "190102164842\n",
            "file probably saved to: feature-map-190102164842\n"
          ],
          "name": "stdout"
        },
        {
          "output_type": "display_data",
          "data": {
            "image/png": "[encoded data removed]",
            "text/plain": [
              "<matplotlib.figure.Figure at 0x7f60b52d55c0>"
            ]
          },
          "metadata": {
            "tags": []
          }
        },
        {
          "output_type": "execute_result",
          "data": {
            "text/plain": [
              "(1, 28, 28, 64)"
            ]
          },
          "metadata": {
            "tags": []
          },
          "execution_count": 13
        }
      ]
    },
    {
      "metadata": {
        "id": "vSzqfc9-TEAM",
        "colab_type": "text"
      },
      "cell_type": "markdown",
      "source": [
        "## Plot success"
      ]
    },
    {
      "metadata": {
        "id": "k1e7z2BQPrDw",
        "colab_type": "code",
        "outputId": "456f7680-5cfe-47a6-8a28-5772fdcaab4c",
        "colab": {
          "base_uri": "https://localhost:8080/",
          "height": 822
        }
      },
      "cell_type": "code",
      "source": [
        "print(type(history.history))\n",
        "print(len(history.history))\n",
        "print(len(history.history['loss']))\n",
        "# print(history.history)\n",
        "\n",
        "# Plot training & validation accuracy values\n",
        "plt.plot(history.history['acc'])\n",
        "plt.plot(history.history['val_acc'])\n",
        "plt.title('Model accuracy, epochs: ' + str(ep) + ', batch size: ' + str(bs))\n",
        "plt.ylabel('Accuracy')\n",
        "plt.xlabel('Epoch')\n",
        "# plt.axis([0, len(history.history['loss']),0,1])\n",
        "plt.legend(['Train', 'Validaton'], loc='upper left')\n",
        "save_png('acc',ep,bs)\n",
        "plt.show()\n",
        "\n",
        "# Plot training & validation loss values\n",
        "plt.plot(history.history['loss'])\n",
        "plt.plot(history.history['val_loss'])\n",
        "plt.title('Model loss, epochs: '+ str(ep) + ', batch size: ' + str(bs))\n",
        "plt.ylabel('Loss')\n",
        "plt.xlabel('Epoch')\n",
        "\n",
        "#plt.axis([0, len(history.history['loss']),0,1])\n",
        "plt.axis\n",
        "plt.legend(['Train', 'Validation'], loc='upper left')\n",
        "plt.show()\n"
      ],
      "execution_count": 0,
      "outputs": [
        {
          "output_type": "stream",
          "text": [
            "<class 'dict'>\n",
            "4\n",
            "10\n",
            "190102184236\n",
            "file probably saved to: acc-190102184236-10epochs-64batch-size.png\n"
          ],
          "name": "stdout"
        },
        {
          "output_type": "display_data",
          "data": {
            "image/png": "[encoded data removed]",
            "text/plain": [
              "<matplotlib.figure.Figure at 0x7f6057bb7470>"
            ]
          },
          "metadata": {
            "tags": []
          }
        },
        {
          "output_type": "display_data",
          "data": {
            "image/png": "[encoded data removed]",
            "text/plain": [
              "<matplotlib.figure.Figure at 0x7f6057b3eb38>"
            ]
          },
          "metadata": {
            "tags": []
          }
        }
      ]
    },
    {
      "metadata": {
        "id": "rBytCeGjbhkK",
        "colab_type": "code",
        "outputId": "b6dc1c06-0b8a-4119-f011-cb32f3d46489",
        "colab": {
          "base_uri": "https://localhost:8080/",
          "height": 742
        }
      },
      "cell_type": "code",
      "source": [
        "X = np.arange(0,len(history.history['acc']))\n",
        "padding = (max(history.history['val_acc'])- min(history.history['val_acc'])) /10\n",
        "bar_width = 0.4\n",
        "\n",
        "plt.title('Accuracy, epochs: ' + str(ep) + ', batch size: ' + str(bs))\n",
        "plt.bar(X, history.history['val_acc'], bar_width, color='xkcd:tan',align='edge')\n",
        "plt.bar(X + bar_width, history.history['acc'], bar_width, color='xkcd:teal',align='edge')\n",
        "\n",
        "min_y = min(min(history.history['val_acc']),min(history.history['acc'])) -padding\n",
        "max_y = max(max(history.history['val_acc']),max(history.history['acc'])) + padding\n",
        "\n",
        "plt.axis([0, len(history.history['val_acc']), min_y, max_y])\n",
        "plt.legend(['Train', 'Validation'], loc='upper left')\n",
        "plt.show()\n",
        "\n",
        "\n",
        "X = np.arange(0,len(history.history['loss']))\n",
        "padding = (max(history.history['val_loss'])- min(history.history['val_loss'])) /10\n",
        "bar_width = 0.4\n",
        "\n",
        "plt.title('Loss, epochs: ' + str(ep) + ', batch size: ' + str(bs))\n",
        "plt.bar(X, history.history['val_loss'], bar_width, color='xkcd:tan',align='edge')\n",
        "plt.bar(X + bar_width, history.history['loss'], bar_width, color='xkcd:teal',align='edge')\n",
        "\n",
        "min_y = min(min(history.history['val_loss']),min(history.history['loss'])) -padding\n",
        "max_y = max(max(history.history['val_loss']),max(history.history['loss'])) + padding\n",
        "\n",
        "plt.axis([0, len(history.history['val_loss']), min_y, max_y])\n",
        "\n",
        "plt.legend(['Train', 'Validation'], loc='upper right')\n",
        "\n",
        "\n",
        "save_png('loss',ep,bs)\n",
        "plt.show()"
      ],
      "execution_count": 0,
      "outputs": [
        {
          "output_type": "display_data",
          "data": {
            "image/png": "[encoded data removed]",
            "text/plain": [
              "<matplotlib.figure.Figure at 0x7f605a7f75f8>"
            ]
          },
          "metadata": {
            "tags": []
          }
        },
        {
          "output_type": "stream",
          "text": [
            "190102180036\n",
            "file probably saved to: loss-190102180036-10epochs-64batch-size.png\n"
          ],
          "name": "stdout"
        },
        {
          "output_type": "display_data",
          "data": {
            "image/png": "[encoded data removed]",
            "text/plain": [
              "<matplotlib.figure.Figure at 0x7f605a78d908>"
            ]
          },
          "metadata": {
            "tags": []
          }
        }
      ]
    },
    {
      "metadata": {
        "id": "ZfxuHt4cgZfp",
        "colab_type": "code",
        "outputId": "59b238fd-ed8b-4278-a7ad-690ad2841fcc",
        "colab": {
          "base_uri": "https://localhost:8080/",
          "height": 52
        }
      },
      "cell_type": "code",
      "source": [
        "# min(history.history['val_loss'])\n",
        "import os\n",
        "print( os.getcwd() )\n",
        "print( os.listdir() )\n",
        "\n"
      ],
      "execution_count": 0,
      "outputs": [
        {
          "output_type": "stream",
          "text": [
            "/content\n",
            "['.config', 'best.hdf5', 'gdrive', '=1.8.0', 'sample_data']\n"
          ],
          "name": "stdout"
        }
      ]
    },
    {
      "metadata": {
        "id": "oMVq_um-uD_x",
        "colab_type": "text"
      },
      "cell_type": "markdown",
      "source": [
        "##Evaluate the model\n",
        "//Try the model using only the pretrained downloaded weights\n",
        "Evaluat the model"
      ]
    },
    {
      "metadata": {
        "id": "qGRkbfAbuBG5",
        "colab_type": "code",
        "outputId": "035acc69-2139-4bd7-f5e7-939329c35a79",
        "colab": {
          "base_uri": "https://localhost:8080/",
          "height": 52
        }
      },
      "cell_type": "code",
      "source": [
        "my_model.load_weights('best.hdf5')\n",
        "\n",
        "preds = my_model.predict(x_train)\n",
        "\n",
        "\n",
        "# Evaluate the model on test set\n",
        "score = my_model.evaluate(x_test, y_test, verbose=0)\n",
        "\n",
        "# Print test accuracy\n",
        "print('\\n', 'Test accuracy:', score[1])\n",
        "\n"
      ],
      "execution_count": 0,
      "outputs": [
        {
          "output_type": "stream",
          "text": [
            "\n",
            " Test accuracy: 0.9231\n"
          ],
          "name": "stdout"
        }
      ]
    },
    {
      "metadata": {
        "id": "hLJmyqsQi1fc",
        "colab_type": "code",
        "colab": {}
      },
      "cell_type": "code",
      "source": [
        ""
      ],
      "execution_count": 0,
      "outputs": []
    }
  ]
}