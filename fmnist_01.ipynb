{
  "nbformat": 4,
  "nbformat_minor": 0,
  "metadata": {
    "colab": {
      "name": "fmnist-01.ipynb",
      "version": "0.3.2",
      "provenance": [],
      "collapsed_sections": [],
      "include_colab_link": true
    },
    "kernelspec": {
      "name": "python3",
      "display_name": "Python 3"
    },
    "accelerator": "GPU"
  },
  "cells": [
    {
      "cell_type": "markdown",
      "metadata": {
        "id": "view-in-github",
        "colab_type": "text"
      },
      "source": [
        "<a href=\"https://colab.research.google.com/github/semla/notebooks/blob/master/fmnist_01.ipynb\" target=\"_parent\"><img src=\"https://colab.research.google.com/assets/colab-badge.svg\" alt=\"Open In Colab\"/></a>"
      ]
    },
    {
      "metadata": {
        "id": "VtEcg8p3gR3_",
        "colab_type": "text"
      },
      "cell_type": "markdown",
      "source": [
        "# Install dependencies & import\n",
        "Install Keras and Tensorflow using pip."
      ]
    },
    {
      "metadata": {
        "id": "rjxoiYwLfV3A",
        "colab_type": "code",
        "colab": {}
      },
      "cell_type": "code",
      "source": [
        "!pip install -U keras tensorflow>=1.8.0 matplotlib numpy"
      ],
      "execution_count": 0,
      "outputs": []
    },
    {
      "metadata": {
        "id": "1LEzzRPjrHzJ",
        "colab_type": "text"
      },
      "cell_type": "markdown",
      "source": [
        "Import statemets"
      ]
    },
    {
      "metadata": {
        "id": "DRk8v2zUgLgY",
        "colab_type": "code",
        "colab": {}
      },
      "cell_type": "code",
      "source": [
        "from keras.preprocessing import image\n",
        "from keras.models import Sequential # For sequential models, not functional\n",
        "from keras.layers import Dense, Activation,MaxPooling2D, Dropout, Conv2D, Flatten # the layers used\n",
        "from keras.datasets import fashion_mnist\n",
        "from keras.utils import to_categorical # one-hot encoding\n",
        "\n",
        "import numpy as np\n",
        "import tensorflow as tf # tensorflow is the backend"
      ],
      "execution_count": 0,
      "outputs": []
    },
    {
      "metadata": {
        "id": "XXk-QeSa7M25",
        "colab_type": "text"
      },
      "cell_type": "markdown",
      "source": [
        "Set variables to enable / disable features depending on where the code is run"
      ]
    },
    {
      "metadata": {
        "id": "Lq37z-om7YhU",
        "colab_type": "code",
        "outputId": "c61c000f-49a6-4b00-eb32-b6eef73eb440",
        "colab": {
          "base_uri": "https://localhost:8080/",
          "height": 34
        }
      },
      "cell_type": "code",
      "source": [
        "use_matplotlib, use_google_drive, use_gpu = False, False, True #True, True, True\n",
        "\n",
        "if use_matplotlib:\n",
        "  import matplotlib.pyplot as plt\n",
        "\n",
        "# use gpu\n",
        "if use_gpu:\n",
        "  device_name = tf.test.gpu_device_name()\n",
        "  if device_name != '/device:GPU:0':\n",
        "    raise SystemError('GPU device not found')\n",
        "  print('Using GPU at: {}'.format(device_name))"
      ],
      "execution_count": 0,
      "outputs": [
        {
          "output_type": "stream",
          "text": [
            "Using GPU at: /device:GPU:0\n"
          ],
          "name": "stdout"
        }
      ]
    },
    {
      "metadata": {
        "id": "tx_0GeqAsGXu",
        "colab_type": "text"
      },
      "cell_type": "markdown",
      "source": [
        "# Load data & do some preprocessing"
      ]
    },
    {
      "metadata": {
        "id": "AZ4Y7HLoixEV",
        "colab_type": "code",
        "outputId": "56f2ff10-233b-47a2-fa3b-a3574bb39dc2",
        "colab": {
          "base_uri": "https://localhost:8080/",
          "height": 69
        }
      },
      "cell_type": "code",
      "source": [
        "# Load the dataset into training and test.\n",
        "(x_train, y_train), (x_test, y_test) = fashion_mnist.load_data()\n",
        "\n",
        "# Print training set shape - note there are 60,000 training data of image size of 28x28, 60,000 train labels)\n",
        "print(\"x_train shape:\", x_train.shape, \"y_train shape:\", y_train.shape)\n",
        "\n",
        "# Print the number of training and test datasets\n",
        "print(x_train.shape[0], 'train set')\n",
        "print(x_test.shape[0], 'test set')\n",
        "\n",
        "# Define the text labels\n",
        "fashion_mnist_labels = [\"T-shirt/top\",  # index 0\n",
        "                        \"Trouser\",      # index 1\n",
        "                        \"Pullover\",     # index 2 \n",
        "                        \"Dress\",        # index 3 \n",
        "                        \"Coat\",         # index 4\n",
        "                        \"Sandal\",       # index 5\n",
        "                        \"Shirt\",        # index 6 \n",
        "                        \"Sneaker\",      # index 7 \n",
        "                        \"Bag\",          # index 8 \n",
        "                        \"Ankle boot\"]   # index 9\n"
      ],
      "execution_count": 0,
      "outputs": [
        {
          "output_type": "stream",
          "text": [
            "x_train shape: (60000, 28, 28) y_train shape: (60000,)\n",
            "60000 train set\n",
            "10000 test set\n"
          ],
          "name": "stdout"
        }
      ]
    },
    {
      "metadata": {
        "id": "FFpw7yorqsWJ",
        "colab_type": "text"
      },
      "cell_type": "markdown",
      "source": [
        "Normalization  & add a dimension for channel. Even if it is black & white images Keras wants a number for channels."
      ]
    },
    {
      "metadata": {
        "id": "XLXfDHz0h2Oj",
        "colab_type": "code",
        "colab": {}
      },
      "cell_type": "code",
      "source": [
        "x_train = x_train.astype('float32') / 255\n",
        "x_test = x_test.astype('float32') / 255\n",
        "\n",
        "# the preprocess_input wants samples, x-values, y-values and channels\n",
        "# since black & white only one channel, so add a 1\n",
        "x_train = x_train.reshape(x_train.shape[0], 28, 28, 1)\n",
        "x_test = x_test.reshape(x_test.shape[0], 28, 28, 1)\n",
        "\n",
        "# \"One-hot-encode\" the labels in train and test\n",
        "y_train = to_categorical(y_train, 10)\n",
        "y_test = to_categorical(y_test, 10)\n"
      ],
      "execution_count": 0,
      "outputs": []
    },
    {
      "metadata": {
        "id": "y0P_eWjrCvTp",
        "colab_type": "code",
        "colab": {}
      },
      "cell_type": "code",
      "source": [
        "# Further break training data into training and validation sets, 5000 in validation set and remaining 55,000 for training set)\n",
        "(x_train, x_valid) = x_train[5000:], x_train[:5000] \n",
        "(y_train, y_valid) = y_train[5000:], y_train[:5000]"
      ],
      "execution_count": 0,
      "outputs": []
    },
    {
      "metadata": {
        "id": "3cUbVvfWIwDW",
        "colab_type": "text"
      },
      "cell_type": "markdown",
      "source": [
        "# Explore the data.\n",
        "Take a look at the y_train which, is now one-hot-encoded.\n",
        "Print the matrix of pixel values representing an image, then print the same data as an image."
      ]
    },
    {
      "metadata": {
        "id": "mkLwP3amItip",
        "colab_type": "code",
        "outputId": "0458a16a-fc4a-4c14-d2a8-6e396d515564",
        "colab": {
          "base_uri": "https://localhost:8080/",
          "height": 885
        }
      },
      "cell_type": "code",
      "source": [
        "# Choose one of the 60000 training samples\n",
        "img_index = 2\n",
        "# y_train contains the lables, ranging from 0 to 9\n",
        "print(\"Row number \" + str(img_index) +\" of the labels: \" + str(y_train[img_index]))\n",
        "label_index=np.argmax(y_train[img_index])\n",
        "# Print the label, for example 2 Pullover\n",
        "print (\"Category \"+str(label_index+1) + \" is \" +(fashion_mnist_labels[label_index]))\n",
        "\n",
        "# Show one of the images from the training dataset\n",
        "# reshaping neccessary to only show the columns with actual pixel data (not the one added with reshape above)\n",
        "img=x_train[img_index].reshape(28,28)\n",
        "np.set_printoptions(linewidth=125)\n",
        "print(\"The matrix of pixel values for sample \" + str(img_index) + \":\\n\" + str(np.around(img,1)))\n",
        "\n",
        "# show the same data but as an image\n",
        "if use_matplotlib:\n",
        "  plt.imshow(img)"
      ],
      "execution_count": 0,
      "outputs": [
        {
          "output_type": "stream",
          "text": [
            "Row number 2 of the labels: [0. 0. 0. 0. 0. 0. 0. 1. 0. 0.]\n",
            "Category 8 is Sneaker\n",
            "The matrix of pixel values for sample 2:\n",
            "[[0.  0.  0.  0.  0.  0.  0.  0.  0.  0.  0.  0.  0.  0.  0.  0.  0.  0.  0.  0.  0.  0.  0.  0.  0.  0.  0.  0. ]\n",
            " [0.  0.  0.  0.  0.  0.  0.  0.  0.  0.  0.  0.  0.  0.  0.  0.  0.  0.  0.  0.  0.  0.  0.  0.  0.  0.  0.  0. ]\n",
            " [0.  0.  0.  0.  0.  0.  0.  0.  0.  0.  0.  0.  0.  0.  0.  0.  0.  0.  0.  0.  0.  0.  0.  0.  0.  0.  0.  0. ]\n",
            " [0.  0.  0.  0.  0.  0.  0.  0.  0.  0.  0.  0.  0.  0.  0.  0.  0.  0.  0.  0.  0.  0.  0.  0.  0.  0.  0.  0. ]\n",
            " [0.  0.  0.  0.  0.  0.  0.  0.  0.  0.  0.  0.  0.  0.  0.  0.  0.  0.  0.  0.  0.  0.  0.  0.  0.  0.  0.  0. ]\n",
            " [0.  0.  0.  0.  0.  0.  0.  0.  0.  0.  0.  0.  0.  0.  0.  0.  0.  0.  0.  0.  0.  0.  0.  0.  0.  0.  0.  0. ]\n",
            " [0.  0.  0.  0.  0.  0.  0.  0.  0.  0.  0.  0.  0.  0.  0.  0.  0.1 0.  0.5 0.4 0.  0.  0.  0.  0.  0.  0.  0. ]\n",
            " [0.  0.  0.  0.  0.  0.  0.  0.  0.  0.  0.  0.  0.  0.  0.  0.  0.5 0.5 0.5 0.6 0.8 0.7 0.6 0.3 0.1 0.  0.  0. ]\n",
            " [0.  0.  0.  0.  0.  0.  0.  0.  0.  0.  0.  0.  0.  0.  0.  0.1 0.6 1.  0.6 0.6 0.9 0.7 0.7 0.6 0.7 0.5 0.2 0. ]\n",
            " [0.  0.  0.  0.  0.  0.  0.  0.  0.  0.  0.  0.  0.  0.  0.  0.  0.4 0.6 0.4 0.9 0.8 0.7 0.6 0.5 0.5 0.6 0.7 0. ]\n",
            " [0.  0.  0.  0.  0.  0.  0.  0.  0.  0.  0.  0.  0.  0.  0.3 0.6 0.9 0.3 0.5 0.8 0.8 0.8 0.4 0.4 0.4 0.5 0.5 0. ]\n",
            " [0.  0.  0.  0.  0.  0.  0.  0.  0.  0.  0.  0.  0.  0.1 0.1 0.6 0.8 0.8 0.7 0.8 0.6 0.6 0.6 0.5 0.5 0.5 0.6 0.1]\n",
            " [0.  0.  0.  0.  0.  0.  0.  0.  0.  0.1 0.  0.1 0.  0.4 0.7 0.4 0.2 0.6 0.8 0.8 0.6 0.4 0.5 0.5 0.5 0.5 0.9 0.2]\n",
            " [0.  0.  0.  0.  0.  0.  0.  0.  0.  0.1 0.1 0.3 0.5 0.  0.4 0.5 0.6 0.9 0.6 0.6 0.6 0.4 0.3 0.3 0.4 0.4 0.7 0.1]\n",
            " [0.  0.  0.  0.  0.  0.  0.  0.  0.1 0.2 0.4 0.  0.7 0.4 0.3 0.5 0.8 0.7 0.6 0.5 0.6 0.7 0.6 0.5 0.4 0.4 0.6 0.2]\n",
            " [0.  0.  0.1 0.2 0.3 0.3 0.3 0.4 0.1 0.5 0.9 0.1 0.2 0.5 0.8 0.9 0.7 0.5 0.5 0.5 0.5 0.6 0.6 0.5 0.6 0.5 0.6 0.3]\n",
            " [0.  0.1 0.3 0.3 0.2 0.1 0.1 0.3 0.3 0.3 0.3 0.5 0.7 0.7 0.7 0.6 0.6 0.6 0.6 0.5 0.4 0.5 0.5 0.5 0.6 0.5 0.6 0.3]\n",
            " [0.  0.1 0.  0.1 0.1 0.1 0.4 0.4 0.3 0.5 0.5 0.7 0.7 0.7 0.7 0.7 0.7 0.7 0.7 0.5 0.5 0.5 0.5 0.7 0.6 0.6 0.7 0.4]\n",
            " [0.  0.1 0.1 0.1 0.1 0.1 0.2 0.3 0.4 0.5 0.5 0.5 0.5 0.6 0.7 0.7 0.6 0.6 0.6 0.5 0.4 0.4 0.6 0.7 0.6 0.5 0.5 0.3]\n",
            " [0.3 0.2 0.  0.1 0.2 0.1 0.1 0.1 0.  0.1 0.1 0.1 0.1 0.1 0.1 0.1 0.1 0.1 0.1 0.1 0.1 0.2 0.2 0.1 0.1 0.1 0.1 0.1]\n",
            " [0.1 0.6 0.5 0.4 0.2 0.1 0.1 0.1 0.2 0.2 0.1 0.2 0.1 0.1 0.2 0.2 0.1 0.1 0.2 0.1 0.1 0.1 0.1 0.1 0.1 0.1 0.1 0.1]\n",
            " [0.  0.  0.1 0.4 0.7 0.7 0.6 0.6 0.3 0.3 0.3 0.2 0.2 0.3 0.2 0.3 0.3 0.3 0.3 0.3 0.4 0.4 0.3 0.3 0.3 0.3 0.4 0.1]\n",
            " [0.  0.  0.  0.  0.  0.  0.2 0.4 0.4 0.5 0.6 0.5 0.5 0.6 0.1 0.2 0.2 0.2 0.1 0.1 0.4 0.4 0.4 0.4 0.4 0.4 0.4 0. ]\n",
            " [0.  0.  0.  0.  0.  0.  0.  0.  0.  0.  0.  0.  0.  0.  0.  0.  0.  0.  0.  0.  0.  0.  0.  0.  0.  0.  0.  0. ]\n",
            " [0.  0.  0.  0.  0.  0.  0.  0.  0.  0.  0.  0.  0.  0.  0.  0.  0.  0.  0.  0.  0.  0.  0.  0.  0.  0.  0.  0. ]\n",
            " [0.  0.  0.  0.  0.  0.  0.  0.  0.  0.  0.  0.  0.  0.  0.  0.  0.  0.  0.  0.  0.  0.  0.  0.  0.  0.  0.  0. ]\n",
            " [0.  0.  0.  0.  0.  0.  0.  0.  0.  0.  0.  0.  0.  0.  0.  0.  0.  0.  0.  0.  0.  0.  0.  0.  0.  0.  0.  0. ]\n",
            " [0.  0.  0.  0.  0.  0.  0.  0.  0.  0.  0.  0.  0.  0.  0.  0.  0.  0.  0.  0.  0.  0.  0.  0.  0.  0.  0.  0. ]]\n"
          ],
          "name": "stdout"
        },
        {
          "output_type": "display_data",
          "data": {
            "image/png": "[encoded data removed]",
            "text/plain": [
              "<matplotlib.figure.Figure at 0x7fe559604cf8>"
            ]
          },
          "metadata": {
            "tags": []
          }
        }
      ]
    },
    {
      "metadata": {
        "id": "yT0wWpewrZg4",
        "colab_type": "text"
      },
      "cell_type": "markdown",
      "source": [
        "# The model\n",
        "##Create the model and add layers"
      ]
    },
    {
      "metadata": {
        "id": "nxUpYlskrcPM",
        "colab_type": "code",
        "outputId": "6c6da93b-443b-4f36-b6f1-5cd02c215a4d",
        "colab": {
          "base_uri": "https://localhost:8080/",
          "height": 469
        }
      },
      "cell_type": "code",
      "source": [
        "my_model = Sequential()\n",
        "\n",
        "my_model.add( Conv2D(filters=64, kernel_size=(4,4), padding='same', activation='relu', input_shape=(28,28,1))) \n",
        "my_model.add( MaxPooling2D(pool_size=(2,2),strides=(2,2)))\n",
        "my_model.add( Dropout(rate=0.3))\n",
        "\n",
        "my_model.add( Conv2D(filters=64, kernel_size=(4,4), padding='same', activation='relu'))\n",
        "my_model.add( MaxPooling2D(pool_size=2))\n",
        "my_model.add( Dropout(0.3))\n",
        "\n",
        "my_model.add( Flatten())\n",
        "my_model.add( Dense(256, activation='relu'))\n",
        "#my_model.add( Dropout(0.5))\n",
        "my_model.add( Dense(10, activation='softmax'))\n",
        "\n",
        "# print the number of layers\n",
        "print('Number of layers: ' + str(len(my_model.layers)))\n",
        "\n",
        "# print sumary of the model and its layers\n",
        "my_model.summary()"
      ],
      "execution_count": 0,
      "outputs": [
        {
          "output_type": "stream",
          "text": [
            "Number of layers: 9\n",
            "_________________________________________________________________\n",
            "Layer (type)                 Output Shape              Param #   \n",
            "=================================================================\n",
            "conv2d_3 (Conv2D)            (None, 28, 28, 64)        1088      \n",
            "_________________________________________________________________\n",
            "max_pooling2d_3 (MaxPooling2 (None, 14, 14, 64)        0         \n",
            "_________________________________________________________________\n",
            "dropout_3 (Dropout)          (None, 14, 14, 64)        0         \n",
            "_________________________________________________________________\n",
            "conv2d_4 (Conv2D)            (None, 14, 14, 64)        65600     \n",
            "_________________________________________________________________\n",
            "max_pooling2d_4 (MaxPooling2 (None, 7, 7, 64)          0         \n",
            "_________________________________________________________________\n",
            "dropout_4 (Dropout)          (None, 7, 7, 64)          0         \n",
            "_________________________________________________________________\n",
            "flatten_2 (Flatten)          (None, 3136)              0         \n",
            "_________________________________________________________________\n",
            "dense_3 (Dense)              (None, 256)               803072    \n",
            "_________________________________________________________________\n",
            "dense_4 (Dense)              (None, 10)                2570      \n",
            "=================================================================\n",
            "Total params: 872,330\n",
            "Trainable params: 872,330\n",
            "Non-trainable params: 0\n",
            "_________________________________________________________________\n"
          ],
          "name": "stdout"
        }
      ]
    },
    {
      "metadata": {
        "id": "vQUSC9dNLH7S",
        "colab_type": "text"
      },
      "cell_type": "markdown",
      "source": [
        "##Compile the model"
      ]
    },
    {
      "metadata": {
        "id": "vkGAQGRsKaEn",
        "colab_type": "code",
        "colab": {}
      },
      "cell_type": "code",
      "source": [
        "my_model.compile(loss='categorical_crossentropy',\n",
        "             optimizer='adam',\n",
        "             #optimizer='SGD',\n",
        "             #optimizer='RMSProp',\n",
        "             metrics=['accuracy'])"
      ],
      "execution_count": 0,
      "outputs": []
    },
    {
      "metadata": {
        "id": "s6bIaeBaPnD4",
        "colab_type": "text"
      },
      "cell_type": "markdown",
      "source": [
        "## Training\n",
        "Save training to history"
      ]
    },
    {
      "metadata": {
        "id": "vJhPxCzCS-X4",
        "colab_type": "code",
        "outputId": "ed81d747-33c4-410d-aa01-c763029964e0",
        "colab": {
          "base_uri": "https://localhost:8080/",
          "height": 729
        }
      },
      "cell_type": "code",
      "source": [
        "from keras.callbacks import ModelCheckpoint\n",
        "checkpointer = ModelCheckpoint(filepath='best.hdf5', verbose = 1, save_best_only=True)\n",
        "bs = 64\n",
        "ep = 10\n",
        "\n",
        "history = my_model.fit(x_train,\n",
        "         y_train,\n",
        "         batch_size=bs,\n",
        "         epochs=ep,\n",
        "         validation_data=(x_valid, y_valid),\n",
        "         callbacks=[checkpointer])"
      ],
      "execution_count": 0,
      "outputs": [
        {
          "output_type": "stream",
          "text": [
            "Train on 55000 samples, validate on 5000 samples\n",
            "Epoch 1/10\n",
            "55000/55000 [==============================] - 13s 233us/step - loss: 0.4647 - acc: 0.8302 - val_loss: 0.3301 - val_acc: 0.8834\n",
            "\n",
            "Epoch 00001: val_loss improved from inf to 0.33014, saving model to best.hdf5\n",
            "Epoch 2/10\n",
            "55000/55000 [==============================] - 12s 223us/step - loss: 0.3046 - acc: 0.8895 - val_loss: 0.2604 - val_acc: 0.9028\n",
            "\n",
            "Epoch 00002: val_loss improved from 0.33014 to 0.26039, saving model to best.hdf5\n",
            "Epoch 3/10\n",
            "55000/55000 [==============================] - 12s 223us/step - loss: 0.2609 - acc: 0.9024 - val_loss: 0.2467 - val_acc: 0.9122\n",
            "\n",
            "Epoch 00003: val_loss improved from 0.26039 to 0.24674, saving model to best.hdf5\n",
            "Epoch 4/10\n",
            "55000/55000 [==============================] - 12s 223us/step - loss: 0.2349 - acc: 0.9119 - val_loss: 0.2260 - val_acc: 0.9168\n",
            "\n",
            "Epoch 00004: val_loss improved from 0.24674 to 0.22595, saving model to best.hdf5\n",
            "Epoch 5/10\n",
            "55000/55000 [==============================] - 12s 223us/step - loss: 0.2166 - acc: 0.9179 - val_loss: 0.2041 - val_acc: 0.9238\n",
            "\n",
            "Epoch 00005: val_loss improved from 0.22595 to 0.20411, saving model to best.hdf5\n",
            "Epoch 6/10\n",
            "55000/55000 [==============================] - 12s 222us/step - loss: 0.2004 - acc: 0.9247 - val_loss: 0.1963 - val_acc: 0.9254\n",
            "\n",
            "Epoch 00006: val_loss improved from 0.20411 to 0.19629, saving model to best.hdf5\n",
            "Epoch 7/10\n",
            "55000/55000 [==============================] - 12s 223us/step - loss: 0.1834 - acc: 0.9303 - val_loss: 0.2012 - val_acc: 0.9260\n",
            "\n",
            "Epoch 00007: val_loss did not improve from 0.19629\n",
            "Epoch 8/10\n",
            "55000/55000 [==============================] - 12s 222us/step - loss: 0.1724 - acc: 0.9345 - val_loss: 0.1963 - val_acc: 0.9250\n",
            "\n",
            "Epoch 00008: val_loss did not improve from 0.19629\n",
            "Epoch 9/10\n",
            "55000/55000 [==============================] - 12s 222us/step - loss: 0.1612 - acc: 0.9390 - val_loss: 0.2018 - val_acc: 0.9264\n",
            "\n",
            "Epoch 00009: val_loss did not improve from 0.19629\n",
            "Epoch 10/10\n",
            "55000/55000 [==============================] - 12s 222us/step - loss: 0.1471 - acc: 0.9438 - val_loss: 0.1974 - val_acc: 0.9278\n",
            "\n",
            "Epoch 00010: val_loss did not improve from 0.19629\n"
          ],
          "name": "stdout"
        }
      ]
    },
    {
      "metadata": {
        "id": "BRPq4Rn_ks42",
        "colab_type": "text"
      },
      "cell_type": "markdown",
      "source": [
        "## Plot feature map"
      ]
    },
    {
      "metadata": {
        "id": "TE95EpHciyRM",
        "colab_type": "text"
      },
      "cell_type": "markdown",
      "source": [
        "mount google drive"
      ]
    },
    {
      "metadata": {
        "id": "efcr2EM6i5GY",
        "colab_type": "code",
        "outputId": "48cd9a23-efa8-4f78-f97a-0cb8130c4384",
        "colab": {
          "base_uri": "https://localhost:8080/",
          "height": 34
        }
      },
      "cell_type": "code",
      "source": [
        "if use_google_drive:\n",
        "  from google.colab import drive\n",
        "  drive.mount('/content/gdrive')"
      ],
      "execution_count": 0,
      "outputs": [
        {
          "output_type": "stream",
          "text": [
            "Drive already mounted at /content/gdrive; to attempt to forcibly remount, call drive.mount(\"/content/gdrive\", force_remount=True).\n"
          ],
          "name": "stdout"
        }
      ]
    },
    {
      "metadata": {
        "id": "vSzqfc9-TEAM",
        "colab_type": "text"
      },
      "cell_type": "markdown",
      "source": [
        "## Plot success"
      ]
    },
    {
      "metadata": {
        "id": "a48C1zmx7qcL",
        "colab_type": "text"
      },
      "cell_type": "markdown",
      "source": [
        "Function to save image to google drive"
      ]
    },
    {
      "metadata": {
        "id": "XTE7UQVJ7m3S",
        "colab_type": "code",
        "colab": {}
      },
      "cell_type": "code",
      "source": [
        "import datetime\n",
        "def save_png(name,ep,bs):\n",
        "  date = datetime.datetime.now()\n",
        "  date = date.strftime(\"%y%m%d%H%M%S\")\n",
        "  print(date)\n",
        "  filename = name + '-' + date\n",
        "  if ep != 0:\n",
        "    filename += '-'+str(ep)+'epochs-'+str(bs)+'batch-size.png'\n",
        "  \n",
        "  plt.savefig('/content/gdrive/My Drive/'+filename, bbox_inches='tight')  \n",
        "  print('file probably saved to: ' + filename)\n",
        " # with open('/content/gdrive/My Drive/'+filename , 'w') as f:\n",
        " #   f.write('content')"
      ],
      "execution_count": 0,
      "outputs": []
    },
    {
      "metadata": {
        "id": "k1e7z2BQPrDw",
        "colab_type": "code",
        "outputId": "6bee0815-740d-4c84-edf4-4180541148fe",
        "colab": {
          "base_uri": "https://localhost:8080/",
          "height": 822
        }
      },
      "cell_type": "code",
      "source": [
        "print(type(history.history))\n",
        "print(len(history.history))\n",
        "print(len(history.history['loss']))\n",
        "# print(history.history)\n",
        "\n",
        "# Plot training & validation accuracy values\n",
        "plt.plot(history.history['acc'])\n",
        "plt.plot(history.history['val_acc'])\n",
        "plt.title('Model accuracy, epochs: ' + str(ep) + ', batch size: ' + str(bs))\n",
        "plt.ylabel('Accuracy')\n",
        "plt.xlabel('Epoch')\n",
        "# plt.axis([0, len(history.history['loss']),0,1])\n",
        "plt.legend(['Train', 'Validaton'], loc='upper left')\n",
        "save_png('acc',ep,bs)\n",
        "plt.show()\n",
        "\n",
        "# Plot training & validation loss values\n",
        "plt.plot(history.history['loss'])\n",
        "plt.plot(history.history['val_loss'])\n",
        "plt.title('Model loss, epochs: '+ str(ep) + ', batch size: ' + str(bs))\n",
        "plt.ylabel('Loss')\n",
        "plt.xlabel('Epoch')\n",
        "\n",
        "#plt.axis([0, len(history.history['loss']),0,1])\n",
        "plt.axis\n",
        "plt.legend(['Train', 'Validation'], loc='upper left')\n",
        "plt.show()\n"
      ],
      "execution_count": 0,
      "outputs": [
        {
          "output_type": "stream",
          "text": [
            "<class 'dict'>\n",
            "4\n",
            "10\n",
            "190103192944\n",
            "file probably saved to: acc-190103192944-10epochs-64batch-size.png\n"
          ],
          "name": "stdout"
        },
        {
          "output_type": "display_data",
          "data": {
            "image/png": "[encoded data removed]",
            "text/plain": [
              "<matplotlib.figure.Figure at 0x7fe557762438>"
            ]
          },
          "metadata": {
            "tags": []
          }
        },
        {
          "output_type": "display_data",
          "data": {
            "image/png": "[encoded data removed]",
            "text/plain": [
              "<matplotlib.figure.Figure at 0x7fe5576a23c8>"
            ]
          },
          "metadata": {
            "tags": []
          }
        }
      ]
    },
    {
      "metadata": {
        "id": "KFmm13sO--ot",
        "colab_type": "text"
      },
      "cell_type": "markdown",
      "source": [
        "**Visualize a feature map / activation**"
      ]
    },
    {
      "metadata": {
        "id": "nNlXxMlJlBP3",
        "colab_type": "code",
        "colab": {}
      },
      "cell_type": "code",
      "source": [
        "from keras import models\n",
        "\n",
        "# Extracts the outputs of the top 8 layers:\n",
        "layer_outputs = [layer.output for layer in my_model.layers[:6]]\n",
        "# Creates a model that will return these outputs, given the model input:\n",
        "activation_model = models.Model(inputs=my_model.input, outputs=layer_outputs)"
      ],
      "execution_count": 0,
      "outputs": []
    },
    {
      "metadata": {
        "id": "g96HxbbsrvYU",
        "colab_type": "code",
        "outputId": "913daff7-0477-483b-9d09-840e8a66d064",
        "colab": {
          "base_uri": "https://localhost:8080/",
          "height": 407
        }
      },
      "cell_type": "code",
      "source": [
        "img_tensor = x_train[img_index]\n",
        "# reshape from 3d to 4d\n",
        "img_tensor = img_tensor.reshape(1,28,28,1)\n",
        "activations = activation_model.predict(img_tensor)\n",
        "first_layer_activation = activations[0]\n",
        "print(\"Dimensions in the first activation layer: \" + str(first_layer_activation.shape[3]))\n",
        "\n",
        "if use_matplotlib:\n",
        "  plt.matshow(first_layer_activation[0, :, :, 33], cmap='magma')\n",
        "  save_png('feature-map',0,0)\n",
        "  plt.show()"
      ],
      "execution_count": 0,
      "outputs": [
        {
          "output_type": "stream",
          "text": [
            "Dimensions in the first activation layer: 64\n",
            "190103193401\n",
            "file probably saved to: feature-map-190103193401\n"
          ],
          "name": "stdout"
        },
        {
          "output_type": "display_data",
          "data": {
            "image/png": "[encoded data removed]",
            "text/plain": [
              "<matplotlib.figure.Figure at 0x7fe55710c630>"
            ]
          },
          "metadata": {
            "tags": []
          }
        }
      ]
    },
    {
      "metadata": {
        "id": "oMVq_um-uD_x",
        "colab_type": "text"
      },
      "cell_type": "markdown",
      "source": [
        "##Evaluate the model\n",
        "//Try the model using only the pretrained downloaded weights\n",
        "Evaluat the model"
      ]
    },
    {
      "metadata": {
        "id": "qGRkbfAbuBG5",
        "colab_type": "code",
        "outputId": "36839d85-d29d-4a4c-b5ca-b9f98b65206b",
        "colab": {
          "base_uri": "https://localhost:8080/",
          "height": 104
        }
      },
      "cell_type": "code",
      "source": [
        "my_model.load_weights('best.hdf5')\n",
        "predictions = my_model.predict(x_train)\n",
        "print(len(predictions))\n",
        "score = my_model.evaluate(x_test, y_test, verbose=1)\n",
        "print(my_model.metrics_names)\n",
        "print(score)\n",
        "# Show test accuracy\n",
        "print('Loss: ', score[0],', Accuracy:', score[1])"
      ],
      "execution_count": 0,
      "outputs": [
        {
          "output_type": "stream",
          "text": [
            "55000\n",
            "10000/10000 [==============================] - 1s 108us/step\n",
            "['loss', 'acc']\n",
            "[0.21888097848892213, 0.9197]\n",
            "Loss:  0.21888097848892213 , Accuracy: 0.9197\n"
          ],
          "name": "stdout"
        }
      ]
    },
    {
      "metadata": {
        "id": "hLJmyqsQi1fc",
        "colab_type": "code",
        "colab": {}
      },
      "cell_type": "code",
      "source": [
        ""
      ],
      "execution_count": 0,
      "outputs": []
    }
  ]
}